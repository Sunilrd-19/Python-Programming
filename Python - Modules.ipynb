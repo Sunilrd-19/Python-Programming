{
 "cells": [
  {
   "cell_type": "code",
   "execution_count": 1,
   "id": "9ed162f0",
   "metadata": {},
   "outputs": [],
   "source": [
    "import os"
   ]
  },
  {
   "cell_type": "code",
   "execution_count": 2,
   "id": "483e0bc9",
   "metadata": {},
   "outputs": [],
   "source": [
    "def test(a,b):\n",
    "    return a+b"
   ]
  },
  {
   "cell_type": "code",
   "execution_count": 3,
   "id": "81258299",
   "metadata": {},
   "outputs": [
    {
     "data": {
      "text/plain": [
       "'C:\\\\Users\\\\chand'"
      ]
     },
     "execution_count": 3,
     "metadata": {},
     "output_type": "execute_result"
    }
   ],
   "source": [
    "pwd()"
   ]
  },
  {
   "cell_type": "code",
   "execution_count": 28,
   "id": "0552d97e",
   "metadata": {},
   "outputs": [
    {
     "name": "stdout",
     "output_type": "stream",
     "text": [
      " Volume in drive C is Windows\n",
      " Volume Serial Number is CC09-EFB7\n",
      "\n",
      " Directory of C:\\Users\\chand\n",
      "\n",
      "22-01-2022  10:45    <DIR>          .\n",
      "22-01-2022  10:45    <DIR>          ..\n",
      "04-12-2021  10:26    <DIR>          .conda\n",
      "04-12-2021  10:25                25 .condarc\n",
      "04-12-2021  10:25    <DIR>          .continuum\n",
      "22-01-2022  10:37    <DIR>          .ipynb_checkpoints\n",
      "14-10-2021  10:56    <DIR>          .ipython\n",
      "09-01-2022  12:46    <DIR>          .jupyter\n",
      "14-10-2021  10:57    <DIR>          .matplotlib\n",
      "22-01-2022  10:42    <DIR>          __pycache__\n",
      "15-03-2021  18:37    <DIR>          3D Objects\n",
      "31-10-2021  16:57    <DIR>          anaconda3\n",
      "15-03-2021  18:37    <DIR>          Contacts\n",
      "10-01-2022  18:16            25,824 Control Flow Statements - If, elif, for.ipynb\n",
      "11-01-2022  21:38         1,344,850 Control flow statements - While loop, for else.ipynb\n",
      "21-01-2022  20:20    <DIR>          Desktop\n",
      "27-12-2021  20:27    <DIR>          Documents\n",
      "22-01-2022  10:30    <DIR>          Downloads\n",
      "15-03-2021  18:37    <DIR>          Favorites\n",
      "17-01-2022  15:56             4,144 google.txt\n",
      "15-03-2021  18:37    <DIR>          Links\n",
      "15-03-2021  18:37    <DIR>          Music\n",
      "22-01-2022  09:21    <DIR>          OneDrive\n",
      "26-11-2021  11:56    <DIR>          Pictures\n",
      "16-01-2022  12:20            45,376 python - exception handling.ipynb\n",
      "18-01-2022  20:56            14,385 Python - Exercise.ipynb\n",
      "17-01-2022  16:09           258,089 python - function- part3(generator) and file operation.ipynb\n",
      "13-01-2022  16:56            21,974 python - function.ipynb\n",
      "14-01-2022  20:29            48,445 python - functions -part2.ipynb\n",
      "12-01-2022  17:48            17,621 Python - Iterator, Generator.ipynb\n",
      "16-01-2022  13:15            34,375 Python - Logging.ipynb\n",
      "22-01-2022  10:45             9,037 Python - Modules.ipynb\n",
      "05-01-2022  15:26            50,943 python - Strings and lists.ipynb\n",
      "08-01-2022  13:17            48,786 Python - Tuples, Sets, dictionary.ipynb\n",
      "15-03-2021  18:37    <DIR>          Saved Games\n",
      "26-10-2021  11:52    <DIR>          seaborn-data\n",
      "15-03-2021  18:38    <DIR>          Searches\n",
      "16-01-2022  12:45               634 test.log\n",
      "15-01-2022  16:34                 0 test.txt\n",
      "22-01-2022  10:45               176 test1.py\n",
      "16-01-2022  10:55                22 test1.txt\n",
      "16-01-2022  12:45                 0 test2.log\n",
      "22-01-2022  10:41                 0 test2.py\n",
      "15-01-2022  16:45                49 test2.txt\n",
      "16-01-2022  11:06                 0 test43.txt\n",
      "14-01-2022  19:56    <DIR>          Tracing\n",
      "22-01-2022  10:39             1,640 Untitled.ipynb\n",
      "25-10-2021  09:39    <DIR>          Videos\n",
      "              23 File(s)      1,926,395 bytes\n",
      "              25 Dir(s)  469,732,052,992 bytes free\n"
     ]
    }
   ],
   "source": [
    "ls"
   ]
  },
  {
   "cell_type": "code",
   "execution_count": 29,
   "id": "76dee8c0",
   "metadata": {},
   "outputs": [
    {
     "data": {
      "text/plain": [
       "<_io.TextIOWrapper name='test2.py' mode='w' encoding='cp1252'>"
      ]
     },
     "execution_count": 29,
     "metadata": {},
     "output_type": "execute_result"
    }
   ],
   "source": [
    "open(\"test2.py\", \"w\")"
   ]
  },
  {
   "cell_type": "code",
   "execution_count": 30,
   "id": "a8c75776",
   "metadata": {},
   "outputs": [],
   "source": [
    "import test1"
   ]
  },
  {
   "cell_type": "code",
   "execution_count": 31,
   "id": "41342111",
   "metadata": {},
   "outputs": [
    {
     "data": {
      "text/plain": [
       "9"
      ]
     },
     "execution_count": 31,
     "metadata": {},
     "output_type": "execute_result"
    }
   ],
   "source": [
    "test(4,5)"
   ]
  },
  {
   "cell_type": "code",
   "execution_count": 32,
   "id": "0e5f02f7",
   "metadata": {},
   "outputs": [
    {
     "data": {
      "text/plain": [
       "9"
      ]
     },
     "execution_count": 32,
     "metadata": {},
     "output_type": "execute_result"
    }
   ],
   "source": [
    "test1.test(3,6)"
   ]
  },
  {
   "cell_type": "code",
   "execution_count": 33,
   "id": "0b2744d7",
   "metadata": {},
   "outputs": [
    {
     "data": {
      "text/plain": [
       "0.75"
      ]
     },
     "execution_count": 33,
     "metadata": {},
     "output_type": "execute_result"
    }
   ],
   "source": [
    "test1.test3(3,4)"
   ]
  },
  {
   "cell_type": "code",
   "execution_count": 34,
   "id": "618a7875",
   "metadata": {},
   "outputs": [
    {
     "name": "stdout",
     "output_type": "stream",
     "text": [
      "this is my code written in module\n"
     ]
    }
   ],
   "source": [
    "test1.test4()"
   ]
  },
  {
   "cell_type": "code",
   "execution_count": 35,
   "id": "d1943f64",
   "metadata": {},
   "outputs": [],
   "source": [
    "from test1 import test4"
   ]
  },
  {
   "cell_type": "code",
   "execution_count": 36,
   "id": "ef332ebc",
   "metadata": {},
   "outputs": [
    {
     "name": "stdout",
     "output_type": "stream",
     "text": [
      "this is my code written in module\n"
     ]
    }
   ],
   "source": [
    "test4()"
   ]
  },
  {
   "cell_type": "code",
   "execution_count": 3,
   "id": "bb27cea1",
   "metadata": {},
   "outputs": [],
   "source": [
    "from test1 import *"
   ]
  },
  {
   "cell_type": "code",
   "execution_count": 4,
   "id": "398a469a",
   "metadata": {},
   "outputs": [
    {
     "data": {
      "text/plain": [
       "20"
      ]
     },
     "execution_count": 4,
     "metadata": {},
     "output_type": "execute_result"
    }
   ],
   "source": [
    "test1(4,5)"
   ]
  },
  {
   "cell_type": "code",
   "execution_count": 6,
   "id": "944f826a",
   "metadata": {},
   "outputs": [],
   "source": [
    "l = [3,4,5,6]"
   ]
  },
  {
   "cell_type": "code",
   "execution_count": 5,
   "id": "e5e1ec1c",
   "metadata": {},
   "outputs": [
    {
     "data": {
      "text/plain": [
       "['In',\n",
       " 'Out',\n",
       " '_',\n",
       " '_4',\n",
       " '__',\n",
       " '___',\n",
       " '__builtin__',\n",
       " '__builtins__',\n",
       " '__doc__',\n",
       " '__loader__',\n",
       " '__name__',\n",
       " '__package__',\n",
       " '__spec__',\n",
       " '_dh',\n",
       " '_i',\n",
       " '_i1',\n",
       " '_i2',\n",
       " '_i3',\n",
       " '_i4',\n",
       " '_i5',\n",
       " '_ih',\n",
       " '_ii',\n",
       " '_iii',\n",
       " '_oh',\n",
       " 'exit',\n",
       " 'get_ipython',\n",
       " 'os',\n",
       " 'quit',\n",
       " 'test',\n",
       " 'test1',\n",
       " 'test3',\n",
       " 'test4']"
      ]
     },
     "execution_count": 5,
     "metadata": {},
     "output_type": "execute_result"
    }
   ],
   "source": [
    "dir()"
   ]
  },
  {
   "cell_type": "code",
   "execution_count": 6,
   "id": "d85aaf80",
   "metadata": {},
   "outputs": [
    {
     "data": {
      "text/plain": [
       "<_io.TextIOWrapper name='my_module.py' mode='w' encoding='cp1252'>"
      ]
     },
     "execution_count": 6,
     "metadata": {},
     "output_type": "execute_result"
    }
   ],
   "source": [
    "open(\"my_module.py\", \"w\")"
   ]
  },
  {
   "cell_type": "code",
   "execution_count": 7,
   "id": "01e9a4ae",
   "metadata": {},
   "outputs": [
    {
     "data": {
      "text/plain": [
       "'C:\\\\Users\\\\chand'"
      ]
     },
     "execution_count": 7,
     "metadata": {},
     "output_type": "execute_result"
    }
   ],
   "source": [
    "pwd"
   ]
  },
  {
   "cell_type": "code",
   "execution_count": 9,
   "id": "3737ed2c",
   "metadata": {},
   "outputs": [
    {
     "name": "stdout",
     "output_type": "stream",
     "text": [
      " Volume in drive C is Windows\n",
      " Volume Serial Number is CC09-EFB7\n",
      "\n",
      " Directory of C:\\Users\\chand\n",
      "\n",
      "22-01-2022  11:05    <DIR>          .\n",
      "22-01-2022  11:05    <DIR>          ..\n",
      "04-12-2021  10:26    <DIR>          .conda\n",
      "04-12-2021  10:25                25 .condarc\n",
      "04-12-2021  10:25    <DIR>          .continuum\n",
      "22-01-2022  10:37    <DIR>          .ipynb_checkpoints\n",
      "14-10-2021  10:56    <DIR>          .ipython\n",
      "09-01-2022  12:46    <DIR>          .jupyter\n",
      "14-10-2021  10:57    <DIR>          .matplotlib\n",
      "22-01-2022  10:49    <DIR>          __pycache__\n",
      "15-03-2021  18:37    <DIR>          3D Objects\n",
      "31-10-2021  16:57    <DIR>          anaconda3\n",
      "15-03-2021  18:37    <DIR>          Contacts\n",
      "10-01-2022  18:16            25,824 Control Flow Statements - If, elif, for.ipynb\n",
      "11-01-2022  21:38         1,344,850 Control flow statements - While loop, for else.ipynb\n",
      "21-01-2022  20:20    <DIR>          Desktop\n",
      "27-12-2021  20:27    <DIR>          Documents\n",
      "22-01-2022  10:30    <DIR>          Downloads\n",
      "15-03-2021  18:37    <DIR>          Favorites\n",
      "17-01-2022  15:56             4,144 google.txt\n",
      "15-03-2021  18:37    <DIR>          Links\n",
      "15-03-2021  18:37    <DIR>          Music\n",
      "22-01-2022  11:04               228 my_module.py\n",
      "22-01-2022  09:21    <DIR>          OneDrive\n",
      "26-11-2021  11:56    <DIR>          Pictures\n",
      "16-01-2022  12:20            45,376 python - exception handling.ipynb\n",
      "18-01-2022  20:56            14,385 Python - Exercise.ipynb\n",
      "17-01-2022  16:09           258,089 python - function- part3(generator) and file operation.ipynb\n",
      "13-01-2022  16:56            21,974 python - function.ipynb\n",
      "14-01-2022  20:29            48,445 python - functions -part2.ipynb\n",
      "12-01-2022  17:48            17,621 Python - Iterator, Generator.ipynb\n",
      "16-01-2022  13:15            34,375 Python - Logging.ipynb\n",
      "22-01-2022  11:05             9,442 Python - Modules.ipynb\n",
      "05-01-2022  15:26            50,943 python - Strings and lists.ipynb\n",
      "08-01-2022  13:17            48,786 Python - Tuples, Sets, dictionary.ipynb\n",
      "15-03-2021  18:37    <DIR>          Saved Games\n",
      "26-10-2021  11:52    <DIR>          seaborn-data\n",
      "15-03-2021  18:38    <DIR>          Searches\n",
      "16-01-2022  12:45               634 test.log\n",
      "15-01-2022  16:34                 0 test.txt\n",
      "22-01-2022  10:48               256 test1.py\n",
      "16-01-2022  10:55                22 test1.txt\n",
      "16-01-2022  12:45                 0 test2.log\n",
      "22-01-2022  10:45                 0 test2.py\n",
      "15-01-2022  16:45                49 test2.txt\n",
      "16-01-2022  11:06                 0 test43.txt\n",
      "14-01-2022  19:56    <DIR>          Tracing\n",
      "22-01-2022  10:39             1,640 Untitled.ipynb\n",
      "25-10-2021  09:39    <DIR>          Videos\n",
      "              24 File(s)      1,927,108 bytes\n",
      "              25 Dir(s)  469,726,760,960 bytes free\n"
     ]
    }
   ],
   "source": [
    "ls"
   ]
  },
  {
   "cell_type": "code",
   "execution_count": 11,
   "id": "413f2464",
   "metadata": {},
   "outputs": [],
   "source": [
    "import my_module"
   ]
  },
  {
   "cell_type": "code",
   "execution_count": 12,
   "id": "ad42bf97",
   "metadata": {},
   "outputs": [
    {
     "data": {
      "text/plain": [
       "'greeting from ineuron'"
      ]
     },
     "execution_count": 12,
     "metadata": {},
     "output_type": "execute_result"
    }
   ],
   "source": [
    "my_module.greetings()"
   ]
  },
  {
   "cell_type": "code",
   "execution_count": null,
   "id": "62e8a286",
   "metadata": {},
   "outputs": [],
   "source": []
  }
 ],
 "metadata": {
  "kernelspec": {
   "display_name": "Python 3",
   "language": "python",
   "name": "python3"
  },
  "language_info": {
   "codemirror_mode": {
    "name": "ipython",
    "version": 3
   },
   "file_extension": ".py",
   "mimetype": "text/x-python",
   "name": "python",
   "nbconvert_exporter": "python",
   "pygments_lexer": "ipython3",
   "version": "3.8.8"
  }
 },
 "nbformat": 4,
 "nbformat_minor": 5
}
