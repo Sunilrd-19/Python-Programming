{
 "cells": [
  {
   "cell_type": "code",
   "execution_count": 3,
   "id": "2e818295",
   "metadata": {},
   "outputs": [
    {
     "data": {
      "text/plain": [
       "27"
      ]
     },
     "execution_count": 3,
     "metadata": {},
     "output_type": "execute_result"
    }
   ],
   "source": [
    "s = \"This is a basic pythn class\"\n",
    "len(s)"
   ]
  },
  {
   "cell_type": "code",
   "execution_count": 6,
   "id": "4538bc42",
   "metadata": {},
   "outputs": [
    {
     "name": "stdout",
     "output_type": "stream",
     "text": [
      "27\n"
     ]
    }
   ],
   "source": [
    "count = 0\n",
    "for i in s:\n",
    "    count = count+1\n",
    "print(count)"
   ]
  },
  {
   "cell_type": "code",
   "execution_count": 8,
   "id": "cbb16fba",
   "metadata": {},
   "outputs": [
    {
     "name": "stdout",
     "output_type": "stream",
     "text": [
      "27\n"
     ]
    }
   ],
   "source": [
    "count = 0\n",
    "for i in s:\n",
    "    count+= 1\n",
    "print(count)"
   ]
  },
  {
   "cell_type": "code",
   "execution_count": 9,
   "id": "10448672",
   "metadata": {},
   "outputs": [
    {
     "data": {
      "text/plain": [
       "'ssalc nhtyp cisab a si sihT'"
      ]
     },
     "execution_count": 9,
     "metadata": {},
     "output_type": "execute_result"
    }
   ],
   "source": [
    "s[::-1]"
   ]
  },
  {
   "cell_type": "code",
   "execution_count": 10,
   "id": "82cfd2c1",
   "metadata": {},
   "outputs": [
    {
     "name": "stdout",
     "output_type": "stream",
     "text": [
      "s\n",
      "s\n",
      "a\n",
      "l\n",
      "c\n",
      " \n",
      "n\n",
      "h\n",
      "t\n",
      "y\n",
      "p\n",
      " \n",
      "c\n",
      "i\n",
      "s\n",
      "a\n",
      "b\n",
      " \n",
      "a\n",
      " \n",
      "s\n",
      "i\n",
      " \n",
      "s\n",
      "i\n",
      "h\n",
      "T\n"
     ]
    }
   ],
   "source": [
    "for i in range(len(s)-1, -1, -1):\n",
    "    print(s[i])"
   ]
  },
  {
   "cell_type": "code",
   "execution_count": 13,
   "id": "4ba14a14",
   "metadata": {},
   "outputs": [
    {
     "name": "stdout",
     "output_type": "stream",
     "text": [
      "s s a l c   n h t y p   c i s a b   a   s i   s i h T "
     ]
    }
   ],
   "source": [
    "i = len(s)-1\n",
    "while(i>=0):\n",
    "    print(s[i], end=\" \")\n",
    "    i =i-1"
   ]
  },
  {
   "cell_type": "code",
   "execution_count": 16,
   "id": "2a20fb17",
   "metadata": {},
   "outputs": [
    {
     "name": "stdout",
     "output_type": "stream",
     "text": [
      "s s a l c   n h t y p   c i s a b   a   s i   s i h T "
     ]
    }
   ],
   "source": [
    "i = 26\n",
    "while(i>=0):\n",
    "    print(s[i], end=\" \")\n",
    "    i =i-1"
   ]
  },
  {
   "cell_type": "code",
   "execution_count": 24,
   "id": "fa3e18de",
   "metadata": {},
   "outputs": [
    {
     "name": "stdout",
     "output_type": "stream",
     "text": [
      "it is a vowel i\n",
      "not a vowel n\n",
      "it is a vowel e\n",
      "it is a vowel u\n",
      "not a vowel r\n",
      "it is a vowel o\n",
      "not a vowel n\n"
     ]
    }
   ],
   "source": [
    "s = \"ineuron\"\n",
    "v = \"AaEeIiOoUu\"\n",
    "for i in s:\n",
    "    if i in v:\n",
    "        print(\"it is a vowel\",i)\n",
    "    else:\n",
    "            print(\"not a vowel\", i)"
   ]
  },
  {
   "cell_type": "code",
   "execution_count": 31,
   "id": "a788bd2e",
   "metadata": {},
   "outputs": [
    {
     "name": "stdout",
     "output_type": "stream",
     "text": [
      "eye\n",
      "It is a palindrome\n"
     ]
    }
   ],
   "source": [
    "s = input()\n",
    "v = s[::-1]\n",
    "if s == v:\n",
    "    print(\"It is a palindrome\")\n",
    "else:\n",
    "        print(\"Not a palindrome\")"
   ]
  },
  {
   "cell_type": "code",
   "execution_count": 40,
   "id": "c96d9cf8",
   "metadata": {},
   "outputs": [
    {
     "name": "stdout",
     "output_type": "stream",
     "text": [
      "malayalam\n",
      "m a l a y a l a m "
     ]
    }
   ],
   "source": [
    "a = input()\n",
    "i = len(a)-1\n",
    "while(i>=0):\n",
    "    print(a[i], end=\" \")\n",
    "    i =i-1"
   ]
  },
  {
   "cell_type": "code",
   "execution_count": 42,
   "id": "c68c83f9",
   "metadata": {},
   "outputs": [
    {
     "name": "stdout",
     "output_type": "stream",
     "text": [
      "eye is a palindrome\n"
     ]
    }
   ],
   "source": [
    "word = \"eye\"\n",
    "for i in range(len(word)):\n",
    "    if word[i] == word[len(word)-1-i]:\n",
    "        print(word, \"is a palindrome\")\n",
    "        break\n",
    "    else:\n",
    "        print(word, \"not a palindrome\")"
   ]
  },
  {
   "cell_type": "code",
   "execution_count": 53,
   "id": "245c7580",
   "metadata": {},
   "outputs": [
    {
     "name": "stdout",
     "output_type": "stream",
     "text": [
      "Palindrome\n"
     ]
    }
   ],
   "source": [
    "word = 'tnent'\n",
    "\n",
    "for i in range(len(word)):\n",
    "    if word[i]!= word[len(word)-i-1]:\n",
    "        print(\"Not a palindrome\")\n",
    "        break\n",
    "        \n",
    "else:\n",
    "    print(\"Palindrome\")"
   ]
  },
  {
   "cell_type": "code",
   "execution_count": 57,
   "id": "f705ff9a",
   "metadata": {},
   "outputs": [
    {
     "name": "stdout",
     "output_type": "stream",
     "text": [
      "malayalam\n",
      "palindrome\n"
     ]
    }
   ],
   "source": [
    "s = input()\n",
    "f = \"\"\n",
    "i = len(s)-1\n",
    "\n",
    "while(i>=0):\n",
    "    f = f+s[i]\n",
    "    i = i-1\n",
    "if(s==f):\n",
    "    print(\"palindrome\")\n",
    "else:\n",
    "    print(\"not a palindrome\")"
   ]
  },
  {
   "cell_type": "code",
   "execution_count": 62,
   "id": "277149a1",
   "metadata": {},
   "outputs": [
    {
     "name": "stdout",
     "output_type": "stream",
     "text": [
      "Yes\n"
     ]
    }
   ],
   "source": [
    "x = \"malayalam\"\n",
    "\n",
    "w = \"\"\n",
    "for i in x:\n",
    "    w = i+w\n",
    "    \n",
    "if (x==w):\n",
    "    print(\"Yes\")\n",
    "else:\n",
    "    print(\"No\")"
   ]
  },
  {
   "cell_type": "code",
   "execution_count": 65,
   "id": "1cc92325",
   "metadata": {},
   "outputs": [],
   "source": [
    "d = {\"india\":\"IN\",\n",
    "    \"canada\":\"CA\",\n",
    "    \"china\":\"CH\",\n",
    "    \"united state\":\"US\"\n",
    "    }"
   ]
  },
  {
   "cell_type": "code",
   "execution_count": 66,
   "id": "de4d0db1",
   "metadata": {},
   "outputs": [
    {
     "data": {
      "text/plain": [
       "True"
      ]
     },
     "execution_count": 66,
     "metadata": {},
     "output_type": "execute_result"
    }
   ],
   "source": [
    "\"india\" in d"
   ]
  },
  {
   "cell_type": "code",
   "execution_count": 67,
   "id": "93ac70a6",
   "metadata": {},
   "outputs": [
    {
     "data": {
      "text/plain": [
       "{'india': 'IN', 'canada': 'CA', 'china': 'CH', 'united state': 'US'}"
      ]
     },
     "execution_count": 67,
     "metadata": {},
     "output_type": "execute_result"
    }
   ],
   "source": [
    "d"
   ]
  },
  {
   "cell_type": "code",
   "execution_count": 69,
   "id": "f01b09e7",
   "metadata": {},
   "outputs": [
    {
     "name": "stdout",
     "output_type": "stream",
     "text": [
      "india\n",
      "canada\n",
      "china\n",
      "united state\n"
     ]
    }
   ],
   "source": [
    "for i in d:\n",
    "    print(i)"
   ]
  },
  {
   "cell_type": "code",
   "execution_count": 70,
   "id": "093d4a04",
   "metadata": {},
   "outputs": [],
   "source": [
    "l_greater = []\n",
    "l_smaller = []\n",
    "for i in d:\n",
    "    if len(i)<=5:\n",
    "        l_smaller.append(i)\n",
    "    else:\n",
    "        l_greater.append(i)"
   ]
  },
  {
   "cell_type": "code",
   "execution_count": 71,
   "id": "64dcaf3b",
   "metadata": {},
   "outputs": [
    {
     "data": {
      "text/plain": [
       "['india', 'china']"
      ]
     },
     "execution_count": 71,
     "metadata": {},
     "output_type": "execute_result"
    }
   ],
   "source": [
    "l_smaller"
   ]
  },
  {
   "cell_type": "code",
   "execution_count": 72,
   "id": "8a8c86a3",
   "metadata": {},
   "outputs": [
    {
     "data": {
      "text/plain": [
       "['canada', 'united state']"
      ]
     },
     "execution_count": 72,
     "metadata": {},
     "output_type": "execute_result"
    }
   ],
   "source": [
    "l_greater"
   ]
  },
  {
   "cell_type": "code",
   "execution_count": 124,
   "id": "dd7b83fd",
   "metadata": {},
   "outputs": [],
   "source": [
    "d_2 = {\"ineuron\":{\n",
    "                \"a\":14,\n",
    "                \"b\":10,\n",
    "                \"c\":4,\n",
    "                },\n",
    "       \n",
    "       \"course\": {\n",
    "                   \"d\":45,\n",
    "                   \"e\":34,\n",
    "                   \"f\":1\n",
    "                 }\n",
    "\n",
    "      }"
   ]
  },
  {
   "cell_type": "code",
   "execution_count": 130,
   "id": "3198ee41",
   "metadata": {},
   "outputs": [
    {
     "data": {
      "text/plain": [
       "{'ineuron': {'a': 14, 'b': 10, 'c': 4}, 'course': {'d': 45, 'e': 34, 'f': 1}}"
      ]
     },
     "execution_count": 130,
     "metadata": {},
     "output_type": "execute_result"
    }
   ],
   "source": [
    "d_2"
   ]
  },
  {
   "cell_type": "code",
   "execution_count": 131,
   "id": "2e57f78b",
   "metadata": {},
   "outputs": [
    {
     "name": "stdout",
     "output_type": "stream",
     "text": [
      "{'a': 14, 'b': 10, 'c': 4}\n",
      "{'d': 45, 'e': 34, 'f': 1}\n"
     ]
    }
   ],
   "source": [
    "for i in d_2.values():\n",
    "    print(i)"
   ]
  },
  {
   "cell_type": "code",
   "execution_count": 132,
   "id": "95f54566",
   "metadata": {},
   "outputs": [
    {
     "name": "stdout",
     "output_type": "stream",
     "text": [
      "14\n",
      "10\n",
      "4\n",
      "45\n",
      "34\n",
      "1\n"
     ]
    }
   ],
   "source": [
    "for i in d_2.values():\n",
    "    for j in i.values():\n",
    "        print(j)"
   ]
  },
  {
   "cell_type": "code",
   "execution_count": 146,
   "id": "1655b85b",
   "metadata": {},
   "outputs": [
    {
     "name": "stdout",
     "output_type": "stream",
     "text": [
      "14\n",
      "45\n"
     ]
    }
   ],
   "source": [
    "lst =[]\n",
    "for i in d_2.values():\n",
    "    for j in i.values():\n",
    "        lst.append(j)\n",
    "    print(max(lst))"
   ]
  },
  {
   "cell_type": "code",
   "execution_count": 134,
   "id": "e2b12070",
   "metadata": {},
   "outputs": [
    {
     "data": {
      "text/plain": [
       "{'ineuron': {'a': 14, 'b': 10, 'c': 4}, 'course': {'d': 45, 'e': 34, 'f': 1}}"
      ]
     },
     "execution_count": 134,
     "metadata": {},
     "output_type": "execute_result"
    }
   ],
   "source": [
    "d_2"
   ]
  },
  {
   "cell_type": "code",
   "execution_count": 135,
   "id": "ca04931e",
   "metadata": {},
   "outputs": [
    {
     "name": "stdout",
     "output_type": "stream",
     "text": [
      "14\n",
      "45\n"
     ]
    }
   ],
   "source": [
    "for i in d_2.values():\n",
    "    mx = 0\n",
    "    for j in i.values():\n",
    "        if mx<j:\n",
    "            mx = j\n",
    "    print(mx)"
   ]
  },
  {
   "cell_type": "code",
   "execution_count": 136,
   "id": "fd221750",
   "metadata": {},
   "outputs": [
    {
     "name": "stdout",
     "output_type": "stream",
     "text": [
      "14\n",
      "45\n"
     ]
    }
   ],
   "source": [
    "for i in d_2.values():\n",
    "    print(max(i.values()))"
   ]
  },
  {
   "cell_type": "code",
   "execution_count": 137,
   "id": "b1390640",
   "metadata": {},
   "outputs": [
    {
     "name": "stdout",
     "output_type": "stream",
     "text": [
      "14\n",
      "45\n"
     ]
    }
   ],
   "source": [
    "for i in d_2.keys():\n",
    "    print(max(d_1[i].values()))"
   ]
  },
  {
   "cell_type": "code",
   "execution_count": 138,
   "id": "9ebcc03f",
   "metadata": {},
   "outputs": [
    {
     "name": "stdout",
     "output_type": "stream",
     "text": [
      "14\n",
      "45\n"
     ]
    }
   ],
   "source": [
    "r = []\n",
    "for i in d_2.values():\n",
    "    \n",
    "    r.append(max(i.values()))\n",
    "    print(max(r))\n"
   ]
  },
  {
   "cell_type": "code",
   "execution_count": 91,
   "id": "34e03d75",
   "metadata": {},
   "outputs": [
    {
     "data": {
      "text/plain": [
       "{'ineuron': {'a': 14, 'b': 10, 'c': 4}, 'course': {'d': 45, 'e': 34, 'f': 1}}"
      ]
     },
     "execution_count": 91,
     "metadata": {},
     "output_type": "execute_result"
    }
   ],
   "source": [
    "d_1"
   ]
  },
  {
   "cell_type": "code",
   "execution_count": 156,
   "id": "9ace32db",
   "metadata": {},
   "outputs": [],
   "source": [
    "d_1={'ineuron': {'a': 14, 'b': 10, 'c': 4}, 'course': {'d': 45, 'e': 34, 'f': 1}, \"g\":354, \"h\":[45,6,7,8,9,3], \"i\":(45,34,2), \"k\":\"sudh\"}"
   ]
  },
  {
   "cell_type": "code",
   "execution_count": 157,
   "id": "994a6d68",
   "metadata": {},
   "outputs": [
    {
     "data": {
      "text/plain": [
       "{'ineuron': {'a': 14, 'b': 10, 'c': 4},\n",
       " 'course': {'d': 45, 'e': 34, 'f': 1},\n",
       " 'g': 354,\n",
       " 'h': [45, 6, 7, 8, 9, 3],\n",
       " 'i': (45, 34, 2),\n",
       " 'k': 'sudh'}"
      ]
     },
     "execution_count": 157,
     "metadata": {},
     "output_type": "execute_result"
    }
   ],
   "source": [
    "d_1"
   ]
  },
  {
   "cell_type": "code",
   "execution_count": 158,
   "id": "8cf28831",
   "metadata": {},
   "outputs": [
    {
     "ename": "TypeError",
     "evalue": "'>' not supported between instances of 'dict' and 'dict'",
     "output_type": "error",
     "traceback": [
      "\u001b[1;31m---------------------------------------------------------------------------\u001b[0m",
      "\u001b[1;31mTypeError\u001b[0m                                 Traceback (most recent call last)",
      "\u001b[1;32m<ipython-input-158-ffde03e5c55b>\u001b[0m in \u001b[0;36m<module>\u001b[1;34m\u001b[0m\n\u001b[0;32m      1\u001b[0m \u001b[0mnew_val\u001b[0m \u001b[1;33m=\u001b[0m \u001b[0md_1\u001b[0m\u001b[1;33m.\u001b[0m\u001b[0mvalues\u001b[0m\u001b[1;33m(\u001b[0m\u001b[1;33m)\u001b[0m\u001b[1;33m\u001b[0m\u001b[1;33m\u001b[0m\u001b[0m\n\u001b[1;32m----> 2\u001b[1;33m \u001b[0mmaximum_val\u001b[0m \u001b[1;33m=\u001b[0m \u001b[0mmax\u001b[0m\u001b[1;33m(\u001b[0m\u001b[0mnew_val\u001b[0m\u001b[1;33m)\u001b[0m\u001b[1;33m\u001b[0m\u001b[1;33m\u001b[0m\u001b[0m\n\u001b[0m\u001b[0;32m      3\u001b[0m \u001b[0mprint\u001b[0m\u001b[1;33m(\u001b[0m\u001b[1;34m\"Maximum value from dict:\"\u001b[0m\u001b[1;33m,\u001b[0m\u001b[0mmaximum_val\u001b[0m\u001b[1;33m)\u001b[0m\u001b[1;33m\u001b[0m\u001b[1;33m\u001b[0m\u001b[0m\n",
      "\u001b[1;31mTypeError\u001b[0m: '>' not supported between instances of 'dict' and 'dict'"
     ]
    }
   ],
   "source": [
    "new_val = d_1.values()\n",
    "maximum_val = max(new_val)\n",
    "print(\"Maximum value from dict:\",maximum_val)"
   ]
  },
  {
   "cell_type": "code",
   "execution_count": 159,
   "id": "9e692d29",
   "metadata": {},
   "outputs": [
    {
     "name": "stdout",
     "output_type": "stream",
     "text": [
      "354\n"
     ]
    }
   ],
   "source": [
    "l1 = []\n",
    "for i in d_1.values():\n",
    "    if type(i) == dict:\n",
    "        l1.append(max(i.values()))\n",
    "    elif type(i) == list:\n",
    "        l1.append(max(i))\n",
    "    elif type(i) == tuple:\n",
    "        l1.append(max(i))\n",
    "    elif type(i) == str:\n",
    "        pass\n",
    "    else:\n",
    "        l1.append(i)\n",
    "        print(max(l1))"
   ]
  },
  {
   "cell_type": "code",
   "execution_count": 164,
   "id": "9723b1a7",
   "metadata": {},
   "outputs": [],
   "source": [
    "## Invalid Solution.\n",
    "\n",
    "\n",
    "for i in d_1.values():\n",
    "    if i == int:\n",
    "        mx = 0\n",
    "        for j in i.values():\n",
    "            if mx<j:\n",
    "                print(mx)\n",
    "                "
   ]
  },
  {
   "cell_type": "code",
   "execution_count": 166,
   "id": "3e2d37f5",
   "metadata": {},
   "outputs": [
    {
     "name": "stdout",
     "output_type": "stream",
     "text": [
      "354\n"
     ]
    }
   ],
   "source": [
    "l = []\n",
    "for i in d_1.values():\n",
    "    if type(i) == int:\n",
    "        l.append(i)\n",
    "    elif type(i) == list or type(i) == tuple:\n",
    "        l.extend(i)\n",
    "    elif type(i) == dict:\n",
    "        for j in i.values():\n",
    "            l.append(j)\n",
    "print(max(l))"
   ]
  },
  {
   "cell_type": "code",
   "execution_count": null,
   "id": "479de659",
   "metadata": {},
   "outputs": [],
   "source": []
  },
  {
   "cell_type": "code",
   "execution_count": null,
   "id": "56528828",
   "metadata": {},
   "outputs": [],
   "source": []
  },
  {
   "cell_type": "code",
   "execution_count": null,
   "id": "0daa1545",
   "metadata": {},
   "outputs": [],
   "source": []
  }
 ],
 "metadata": {
  "kernelspec": {
   "display_name": "Python 3",
   "language": "python",
   "name": "python3"
  },
  "language_info": {
   "codemirror_mode": {
    "name": "ipython",
    "version": 3
   },
   "file_extension": ".py",
   "mimetype": "text/x-python",
   "name": "python",
   "nbconvert_exporter": "python",
   "pygments_lexer": "ipython3",
   "version": "3.8.8"
  }
 },
 "nbformat": 4,
 "nbformat_minor": 5
}
