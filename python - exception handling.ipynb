{
 "cells": [
  {
   "cell_type": "code",
   "execution_count": 1,
   "id": "eba3e83a",
   "metadata": {},
   "outputs": [
    {
     "data": {
      "text/plain": [
       "0.5"
      ]
     },
     "execution_count": 1,
     "metadata": {},
     "output_type": "execute_result"
    }
   ],
   "source": [
    "a = 5\n",
    "a/10"
   ]
  },
  {
   "cell_type": "code",
   "execution_count": 2,
   "id": "b6205db8",
   "metadata": {},
   "outputs": [
    {
     "ename": "ZeroDivisionError",
     "evalue": "division by zero",
     "output_type": "error",
     "traceback": [
      "\u001b[1;31m---------------------------------------------------------------------------\u001b[0m",
      "\u001b[1;31mZeroDivisionError\u001b[0m                         Traceback (most recent call last)",
      "\u001b[1;32m<ipython-input-2-deacdc4ccabc>\u001b[0m in \u001b[0;36m<module>\u001b[1;34m\u001b[0m\n\u001b[1;32m----> 1\u001b[1;33m \u001b[0ma\u001b[0m\u001b[1;33m/\u001b[0m\u001b[1;36m0\u001b[0m\u001b[1;33m\u001b[0m\u001b[1;33m\u001b[0m\u001b[0m\n\u001b[0m",
      "\u001b[1;31mZeroDivisionError\u001b[0m: division by zero"
     ]
    }
   ],
   "source": [
    "a/0"
   ]
  },
  {
   "cell_type": "code",
   "execution_count": 3,
   "id": "f77f0ebf",
   "metadata": {},
   "outputs": [
    {
     "ename": "ZeroDivisionError",
     "evalue": "division by zero",
     "output_type": "error",
     "traceback": [
      "\u001b[1;31m---------------------------------------------------------------------------\u001b[0m",
      "\u001b[1;31mZeroDivisionError\u001b[0m                         Traceback (most recent call last)",
      "\u001b[1;32m<ipython-input-3-e44be63d6c6b>\u001b[0m in \u001b[0;36m<module>\u001b[1;34m\u001b[0m\n\u001b[1;32m----> 1\u001b[1;33m \u001b[0ma\u001b[0m\u001b[1;33m/\u001b[0m\u001b[1;36m0\u001b[0m\u001b[1;33m\u001b[0m\u001b[1;33m\u001b[0m\u001b[0m\n\u001b[0m\u001b[0;32m      2\u001b[0m \u001b[0mprint\u001b[0m\u001b[1;33m(\u001b[0m\u001b[1;34m\"this is my prog\"\u001b[0m\u001b[1;33m)\u001b[0m\u001b[1;33m\u001b[0m\u001b[1;33m\u001b[0m\u001b[0m\n",
      "\u001b[1;31mZeroDivisionError\u001b[0m: division by zero"
     ]
    }
   ],
   "source": [
    "a/0\n",
    "print(\"this is my prog\")"
   ]
  },
  {
   "cell_type": "code",
   "execution_count": 5,
   "id": "a9c4285c",
   "metadata": {},
   "outputs": [
    {
     "name": "stdout",
     "output_type": "stream",
     "text": [
      "0\n"
     ]
    },
    {
     "ename": "ZeroDivisionError",
     "evalue": "division by zero",
     "output_type": "error",
     "traceback": [
      "\u001b[1;31m---------------------------------------------------------------------------\u001b[0m",
      "\u001b[1;31mZeroDivisionError\u001b[0m                         Traceback (most recent call last)",
      "\u001b[1;32m<ipython-input-5-a1585f436dde>\u001b[0m in \u001b[0;36m<module>\u001b[1;34m\u001b[0m\n\u001b[0;32m      1\u001b[0m \u001b[0ma\u001b[0m \u001b[1;33m=\u001b[0m \u001b[1;36m5\u001b[0m\u001b[1;33m\u001b[0m\u001b[1;33m\u001b[0m\u001b[0m\n\u001b[0;32m      2\u001b[0m \u001b[0mb\u001b[0m \u001b[1;33m=\u001b[0m \u001b[0mint\u001b[0m\u001b[1;33m(\u001b[0m\u001b[0minput\u001b[0m\u001b[1;33m(\u001b[0m\u001b[1;33m)\u001b[0m\u001b[1;33m)\u001b[0m\u001b[1;33m\u001b[0m\u001b[1;33m\u001b[0m\u001b[0m\n\u001b[1;32m----> 3\u001b[1;33m \u001b[0ma\u001b[0m\u001b[1;33m/\u001b[0m\u001b[0mb\u001b[0m\u001b[1;33m\u001b[0m\u001b[1;33m\u001b[0m\u001b[0m\n\u001b[0m",
      "\u001b[1;31mZeroDivisionError\u001b[0m: division by zero"
     ]
    }
   ],
   "source": [
    "a = 5\n",
    "b = int(input())\n",
    "a/b"
   ]
  },
  {
   "cell_type": "code",
   "execution_count": 6,
   "id": "1ac2a86c",
   "metadata": {},
   "outputs": [
    {
     "ename": "FileNotFoundError",
     "evalue": "[Errno 2] No such file or directory: 'test.txt'",
     "output_type": "error",
     "traceback": [
      "\u001b[1;31m---------------------------------------------------------------------------\u001b[0m",
      "\u001b[1;31mFileNotFoundError\u001b[0m                         Traceback (most recent call last)",
      "\u001b[1;32m<ipython-input-6-c54d06803345>\u001b[0m in \u001b[0;36m<module>\u001b[1;34m\u001b[0m\n\u001b[1;32m----> 1\u001b[1;33m \u001b[0mf\u001b[0m \u001b[1;33m=\u001b[0m \u001b[0mopen\u001b[0m\u001b[1;33m(\u001b[0m\u001b[1;34m\"test.txt\"\u001b[0m\u001b[1;33m,\u001b[0m \u001b[1;34m\"r\"\u001b[0m\u001b[1;33m)\u001b[0m\u001b[1;33m\u001b[0m\u001b[1;33m\u001b[0m\u001b[0m\n\u001b[0m\u001b[0;32m      2\u001b[0m \u001b[0mf\u001b[0m\u001b[1;33m.\u001b[0m\u001b[0mwrite\u001b[0m\u001b[1;33m(\u001b[0m\u001b[1;34m\"gfgesfgug egf gfgf\"\u001b[0m\u001b[1;33m)\u001b[0m\u001b[1;33m\u001b[0m\u001b[1;33m\u001b[0m\u001b[0m\n",
      "\u001b[1;31mFileNotFoundError\u001b[0m: [Errno 2] No such file or directory: 'test.txt'"
     ]
    }
   ],
   "source": [
    "f = open(\"test.txt\", \"r\")\n",
    "f.write(\"gfgesfgug egf gfgf\")"
   ]
  },
  {
   "cell_type": "code",
   "execution_count": 7,
   "id": "65128ba2",
   "metadata": {},
   "outputs": [
    {
     "data": {
      "text/plain": [
       "18"
      ]
     },
     "execution_count": 7,
     "metadata": {},
     "output_type": "execute_result"
    }
   ],
   "source": [
    "f = open(\"test.txt\", \"w\")\n",
    "f.write(\"gfgesfgug egf gfgf\")"
   ]
  },
  {
   "cell_type": "code",
   "execution_count": 9,
   "id": "47cbaac9",
   "metadata": {},
   "outputs": [
    {
     "name": "stdout",
     "output_type": "stream",
     "text": [
      "there was a mistake\n"
     ]
    }
   ],
   "source": [
    "try:\n",
    "    f = open('test.txt', \"r\")\n",
    "    f.write(\"jggsadfg\")\n",
    "except:\n",
    "    print(\"there was a mistake\")"
   ]
  },
  {
   "cell_type": "code",
   "execution_count": 10,
   "id": "e8da0a67",
   "metadata": {},
   "outputs": [
    {
     "name": "stdout",
     "output_type": "stream",
     "text": [
      "there was a mistake\n",
      "this is my code\n"
     ]
    }
   ],
   "source": [
    "try:\n",
    "    f = open('test.txt', \"r\")\n",
    "    f.write(\"jggsadfg\")\n",
    "except:\n",
    "    print(\"there was a mistake\")\n",
    "print(\"this is my code\")"
   ]
  },
  {
   "cell_type": "code",
   "execution_count": 11,
   "id": "74093e0e",
   "metadata": {},
   "outputs": [
    {
     "ename": "SyntaxError",
     "evalue": "unexpected EOF while parsing (<ipython-input-11-ddbce7035f67>, line 3)",
     "output_type": "error",
     "traceback": [
      "\u001b[1;36m  File \u001b[1;32m\"<ipython-input-11-ddbce7035f67>\"\u001b[1;36m, line \u001b[1;32m3\u001b[0m\n\u001b[1;33m    f.write(\"jggsadfg\")\u001b[0m\n\u001b[1;37m                       ^\u001b[0m\n\u001b[1;31mSyntaxError\u001b[0m\u001b[1;31m:\u001b[0m unexpected EOF while parsing\n"
     ]
    }
   ],
   "source": [
    "try:\n",
    "    f = open('test.txt', \"r\")\n",
    "    f.write(\"jggsadfg\")"
   ]
  },
  {
   "cell_type": "code",
   "execution_count": 14,
   "id": "f647b9ee",
   "metadata": {},
   "outputs": [
    {
     "ename": "SyntaxError",
     "evalue": "invalid syntax (<ipython-input-14-c16c56cfb4ff>, line 3)",
     "output_type": "error",
     "traceback": [
      "\u001b[1;36m  File \u001b[1;32m\"<ipython-input-14-c16c56cfb4ff>\"\u001b[1;36m, line \u001b[1;32m3\u001b[0m\n\u001b[1;33m    for i range(len(l)):\u001b[0m\n\u001b[1;37m          ^\u001b[0m\n\u001b[1;31mSyntaxError\u001b[0m\u001b[1;31m:\u001b[0m invalid syntax\n"
     ]
    }
   ],
   "source": [
    "l = [4,5,6,7,8,8,9,0]\n",
    "try:\n",
    "    for i range(len(l)):\n",
    "    print(l)\n",
    "except:\n",
    "    print(\"this is my code\")"
   ]
  },
  {
   "cell_type": "code",
   "execution_count": 15,
   "id": "596bf38a",
   "metadata": {},
   "outputs": [
    {
     "ename": "IndentationError",
     "evalue": "expected an indented block (<ipython-input-15-02d06d17c65d>, line 4)",
     "output_type": "error",
     "traceback": [
      "\u001b[1;36m  File \u001b[1;32m\"<ipython-input-15-02d06d17c65d>\"\u001b[1;36m, line \u001b[1;32m4\u001b[0m\n\u001b[1;33m    print(l)\u001b[0m\n\u001b[1;37m    ^\u001b[0m\n\u001b[1;31mIndentationError\u001b[0m\u001b[1;31m:\u001b[0m expected an indented block\n"
     ]
    }
   ],
   "source": [
    "l = [4,5,6,7,8,8,9,0]\n",
    "try:\n",
    "    for i in range(len(l)):\n",
    "    print(l)\n",
    "except:\n",
    "    print(\"this is my code\")"
   ]
  },
  {
   "cell_type": "code",
   "execution_count": 19,
   "id": "9ff6bb25",
   "metadata": {},
   "outputs": [
    {
     "name": "stdout",
     "output_type": "stream",
     "text": [
      "[4, 5, 6, 7, 8, 8, 9, 0]\n",
      "[4, 5, 6, 7, 8, 8, 9, 0]\n",
      "[4, 5, 6, 7, 8, 8, 9, 0]\n",
      "[4, 5, 6, 7, 8, 8, 9, 0]\n",
      "[4, 5, 6, 7, 8, 8, 9, 0]\n",
      "[4, 5, 6, 7, 8, 8, 9, 0]\n",
      "[4, 5, 6, 7, 8, 8, 9, 0]\n",
      "[4, 5, 6, 7, 8, 8, 9, 0]\n"
     ]
    }
   ],
   "source": [
    "l = [4,5,6,7,8,8,9,0]\n",
    "for i in range(len(l)):\n",
    "    print(l)"
   ]
  },
  {
   "cell_type": "code",
   "execution_count": 21,
   "id": "010dd0d8",
   "metadata": {},
   "outputs": [
    {
     "name": "stdout",
     "output_type": "stream",
     "text": [
      "4\n",
      "5\n",
      "6\n",
      "7\n",
      "8\n",
      "8\n",
      "9\n",
      "0\n"
     ]
    },
    {
     "ename": "IndexError",
     "evalue": "list index out of range",
     "output_type": "error",
     "traceback": [
      "\u001b[1;31m---------------------------------------------------------------------------\u001b[0m",
      "\u001b[1;31mIndexError\u001b[0m                                Traceback (most recent call last)",
      "\u001b[1;32m<ipython-input-21-91166d3eefde>\u001b[0m in \u001b[0;36m<module>\u001b[1;34m\u001b[0m\n\u001b[0;32m      1\u001b[0m \u001b[0ml\u001b[0m \u001b[1;33m=\u001b[0m \u001b[1;33m[\u001b[0m\u001b[1;36m4\u001b[0m\u001b[1;33m,\u001b[0m\u001b[1;36m5\u001b[0m\u001b[1;33m,\u001b[0m\u001b[1;36m6\u001b[0m\u001b[1;33m,\u001b[0m\u001b[1;36m7\u001b[0m\u001b[1;33m,\u001b[0m\u001b[1;36m8\u001b[0m\u001b[1;33m,\u001b[0m\u001b[1;36m8\u001b[0m\u001b[1;33m,\u001b[0m\u001b[1;36m9\u001b[0m\u001b[1;33m,\u001b[0m\u001b[1;36m0\u001b[0m\u001b[1;33m]\u001b[0m\u001b[1;33m\u001b[0m\u001b[1;33m\u001b[0m\u001b[0m\n\u001b[0;32m      2\u001b[0m \u001b[1;32mfor\u001b[0m \u001b[0mi\u001b[0m \u001b[1;32min\u001b[0m \u001b[0mrange\u001b[0m\u001b[1;33m(\u001b[0m\u001b[0mlen\u001b[0m\u001b[1;33m(\u001b[0m\u001b[0ml\u001b[0m\u001b[1;33m)\u001b[0m\u001b[1;33m+\u001b[0m\u001b[1;36m1\u001b[0m\u001b[1;33m)\u001b[0m\u001b[1;33m:\u001b[0m\u001b[1;33m\u001b[0m\u001b[1;33m\u001b[0m\u001b[0m\n\u001b[1;32m----> 3\u001b[1;33m     \u001b[0mprint\u001b[0m\u001b[1;33m(\u001b[0m\u001b[0ml\u001b[0m\u001b[1;33m[\u001b[0m\u001b[0mi\u001b[0m\u001b[1;33m]\u001b[0m\u001b[1;33m)\u001b[0m\u001b[1;33m\u001b[0m\u001b[1;33m\u001b[0m\u001b[0m\n\u001b[0m",
      "\u001b[1;31mIndexError\u001b[0m: list index out of range"
     ]
    }
   ],
   "source": [
    "l = [4,5,6,7,8,8,9,0]\n",
    "for i in range(len(l)+1):\n",
    "    print(l[i])"
   ]
  },
  {
   "cell_type": "code",
   "execution_count": 23,
   "id": "55e92199",
   "metadata": {},
   "outputs": [
    {
     "name": "stdout",
     "output_type": "stream",
     "text": [
      "4\n",
      "5\n",
      "6\n",
      "7\n",
      "8\n",
      "8\n",
      "9\n",
      "0\n",
      "this is my code\n"
     ]
    }
   ],
   "source": [
    "l = [4,5,6,7,8,8,9,0]\n",
    "try:\n",
    "    for i in range(len(l)+1):\n",
    "          print(l[i])\n",
    "except:\n",
    "    print(\"this is my code\")"
   ]
  },
  {
   "cell_type": "code",
   "execution_count": 1,
   "id": "a0b6e4a4",
   "metadata": {},
   "outputs": [
    {
     "ename": "ZeroDivisionError",
     "evalue": "division by zero",
     "output_type": "error",
     "traceback": [
      "\u001b[1;31m---------------------------------------------------------------------------\u001b[0m",
      "\u001b[1;31mZeroDivisionError\u001b[0m                         Traceback (most recent call last)",
      "\u001b[1;32m<ipython-input-1-0106664d39e8>\u001b[0m in \u001b[0;36m<module>\u001b[1;34m\u001b[0m\n\u001b[1;32m----> 1\u001b[1;33m \u001b[1;36m5\u001b[0m\u001b[1;33m/\u001b[0m\u001b[1;36m0\u001b[0m\u001b[1;33m\u001b[0m\u001b[1;33m\u001b[0m\u001b[0m\n\u001b[0m",
      "\u001b[1;31mZeroDivisionError\u001b[0m: division by zero"
     ]
    }
   ],
   "source": [
    "5/0"
   ]
  },
  {
   "cell_type": "code",
   "execution_count": 8,
   "id": "9598a4eb",
   "metadata": {},
   "outputs": [
    {
     "ename": "SyntaxError",
     "evalue": "unexpected EOF while parsing (<ipython-input-8-449908f33b84>, line 4)",
     "output_type": "error",
     "traceback": [
      "\u001b[1;36m  File \u001b[1;32m\"<ipython-input-8-449908f33b84>\"\u001b[1;36m, line \u001b[1;32m4\u001b[0m\n\u001b[1;33m    print(l[i])\u001b[0m\n\u001b[1;37m               ^\u001b[0m\n\u001b[1;31mSyntaxError\u001b[0m\u001b[1;31m:\u001b[0m unexpected EOF while parsing\n"
     ]
    }
   ],
   "source": [
    "l = [4,5,6,7,8,8,9,0]\n",
    "try:\n",
    "    for i in range(len(l)+1):\n",
    "        print(l[i])"
   ]
  },
  {
   "cell_type": "code",
   "execution_count": 7,
   "id": "c84b207c",
   "metadata": {},
   "outputs": [
    {
     "name": "stdout",
     "output_type": "stream",
     "text": [
      "4\n",
      "5\n",
      "6\n",
      "7\n",
      "8\n",
      "8\n",
      "9\n",
      "0\n",
      "this is my code list index out of range\n"
     ]
    }
   ],
   "source": [
    "l = [4,5,6,7,8,8,9,0]\n",
    "try:\n",
    "    for i in range(len(l)+1):\n",
    "          print(l[i])\n",
    "except Exception as e :\n",
    "        print(\"this is my code\", e)"
   ]
  },
  {
   "cell_type": "code",
   "execution_count": 11,
   "id": "04683812",
   "metadata": {},
   "outputs": [
    {
     "name": "stdout",
     "output_type": "stream",
     "text": [
      "4\n",
      "5\n",
      "6\n",
      "7\n",
      "8\n",
      "8\n",
      "9\n",
      "0\n",
      "list index out of range\n"
     ]
    }
   ],
   "source": [
    "l = [4,5,6,7,8,8,9,0]\n",
    "try:\n",
    "    for i in range(len(l)+1):\n",
    "          print(l[i])\n",
    "except Exception as e :\n",
    "        print(e)"
   ]
  },
  {
   "cell_type": "code",
   "execution_count": 15,
   "id": "06d6369b",
   "metadata": {},
   "outputs": [
    {
     "name": "stdout",
     "output_type": "stream",
     "text": [
      "iuhidsuhfhosdf\n",
      "invalid literal for int() with base 10: 'iuhidsuhfhosdf'\n",
      "khgdfiugsdfodh\n"
     ]
    }
   ],
   "source": [
    "try:\n",
    "    a = int(input())\n",
    "    b = int(input())\n",
    "except Exception as e:\n",
    "    print(e)\n",
    "print(\"khgdfiugsdfodh\")"
   ]
  },
  {
   "cell_type": "code",
   "execution_count": 16,
   "id": "9d5a0ae4",
   "metadata": {},
   "outputs": [
    {
     "ename": "SyntaxError",
     "evalue": "unexpected EOF while parsing (<ipython-input-16-9579b18ce765>, line 1)",
     "output_type": "error",
     "traceback": [
      "\u001b[1;36m  File \u001b[1;32m\"<ipython-input-16-9579b18ce765>\"\u001b[1;36m, line \u001b[1;32m1\u001b[0m\n\u001b[1;33m    print(\"dgbfhg\"\u001b[0m\n\u001b[1;37m                  ^\u001b[0m\n\u001b[1;31mSyntaxError\u001b[0m\u001b[1;31m:\u001b[0m unexpected EOF while parsing\n"
     ]
    }
   ],
   "source": [
    "print(\"dgbfhg\""
   ]
  },
  {
   "cell_type": "code",
   "execution_count": 17,
   "id": "fbfdd930",
   "metadata": {},
   "outputs": [
    {
     "name": "stdout",
     "output_type": "stream",
     "text": [
      "ghiygsff\n"
     ]
    },
    {
     "ename": "ValueError",
     "evalue": "invalid literal for int() with base 10: 'ghiygsff'",
     "output_type": "error",
     "traceback": [
      "\u001b[1;31m---------------------------------------------------------------------------\u001b[0m",
      "\u001b[1;31mValueError\u001b[0m                                Traceback (most recent call last)",
      "\u001b[1;32m<ipython-input-17-91869f0d3d8c>\u001b[0m in \u001b[0;36m<module>\u001b[1;34m\u001b[0m\n\u001b[1;32m----> 1\u001b[1;33m \u001b[0ma\u001b[0m \u001b[1;33m=\u001b[0m \u001b[0mint\u001b[0m\u001b[1;33m(\u001b[0m\u001b[0minput\u001b[0m\u001b[1;33m(\u001b[0m\u001b[1;33m)\u001b[0m\u001b[1;33m)\u001b[0m\u001b[1;33m\u001b[0m\u001b[1;33m\u001b[0m\u001b[0m\n\u001b[0m",
      "\u001b[1;31mValueError\u001b[0m: invalid literal for int() with base 10: 'ghiygsff'"
     ]
    }
   ],
   "source": [
    "a = int(input())"
   ]
  },
  {
   "cell_type": "code",
   "execution_count": 21,
   "id": "f83c4ff6",
   "metadata": {},
   "outputs": [
    {
     "name": "stdout",
     "output_type": "stream",
     "text": [
      "this is my handler\n",
      "1\n",
      "2\n",
      "3\n",
      "4\n",
      "5\n"
     ]
    }
   ],
   "source": [
    "try :\n",
    "    f = open(\"test1\", 'r')\n",
    "    f.write(\"this is my code with exception handling\")\n",
    "    print(\"this is my code after write ops\")\n",
    "    \n",
    "except:\n",
    "    print(\"this is my handler\")\n",
    "l = [1,2,3,4,5]\n",
    "for i in l:\n",
    "    print(i)"
   ]
  },
  {
   "cell_type": "code",
   "execution_count": 23,
   "id": "1946bca8",
   "metadata": {},
   "outputs": [
    {
     "name": "stdout",
     "output_type": "stream",
     "text": [
      "this is my handler\n",
      "1\n",
      "2\n",
      "3\n",
      "4\n",
      "5\n"
     ]
    }
   ],
   "source": [
    "try :\n",
    "    f = open(\"test1\", 'r')\n",
    "    f.write(\"this is my code with exception handling\")\n",
    "    print(\"this is my code after write ops\")\n",
    "    \n",
    "except:\n",
    "    print(\"this is my handler\")\n",
    "try:\n",
    "    \n",
    "    l = [1,2,3,4,5]\n",
    "    for i in l:\n",
    "        print(i)\n",
    "except:\n",
    "    print(\"this is a handler for for loop\")"
   ]
  },
  {
   "cell_type": "code",
   "execution_count": 31,
   "id": "7bbacae2",
   "metadata": {},
   "outputs": [
    {
     "name": "stdout",
     "output_type": "stream",
     "text": [
      "hfghf\n",
      "invalid literal for int() with base 10: 'hfghf'\n"
     ]
    }
   ],
   "source": [
    "try :\n",
    "    d = {\"key1\": \"sudh\", \"key2\":[1,2,3,4], \"key3\": (4,5,6,7,7)}\n",
    "    d[\"key4\"] = int(input())    \n",
    "except Exception as sudh :\n",
    "         print(sudh)"
   ]
  },
  {
   "cell_type": "code",
   "execution_count": 32,
   "id": "fabcbb86",
   "metadata": {},
   "outputs": [
    {
     "name": "stdout",
     "output_type": "stream",
     "text": [
      "hfgdsigf\n"
     ]
    },
    {
     "ename": "ValueError",
     "evalue": "invalid literal for int() with base 10: 'hfgdsigf'",
     "output_type": "error",
     "traceback": [
      "\u001b[1;31m---------------------------------------------------------------------------\u001b[0m",
      "\u001b[1;31mValueError\u001b[0m                                Traceback (most recent call last)",
      "\u001b[1;32m<ipython-input-32-cf6f471d2efc>\u001b[0m in \u001b[0;36m<module>\u001b[1;34m\u001b[0m\n\u001b[0;32m      1\u001b[0m \u001b[0md\u001b[0m \u001b[1;33m=\u001b[0m \u001b[1;33m{\u001b[0m\u001b[1;34m\"key1\"\u001b[0m\u001b[1;33m:\u001b[0m \u001b[1;34m\"sudh\"\u001b[0m\u001b[1;33m,\u001b[0m \u001b[1;34m\"key2\"\u001b[0m\u001b[1;33m:\u001b[0m\u001b[1;33m[\u001b[0m\u001b[1;36m1\u001b[0m\u001b[1;33m,\u001b[0m\u001b[1;36m2\u001b[0m\u001b[1;33m,\u001b[0m\u001b[1;36m3\u001b[0m\u001b[1;33m,\u001b[0m\u001b[1;36m4\u001b[0m\u001b[1;33m]\u001b[0m\u001b[1;33m,\u001b[0m \u001b[1;34m\"key3\"\u001b[0m\u001b[1;33m:\u001b[0m \u001b[1;33m(\u001b[0m\u001b[1;36m4\u001b[0m\u001b[1;33m,\u001b[0m\u001b[1;36m5\u001b[0m\u001b[1;33m,\u001b[0m\u001b[1;36m6\u001b[0m\u001b[1;33m,\u001b[0m\u001b[1;36m7\u001b[0m\u001b[1;33m,\u001b[0m\u001b[1;36m7\u001b[0m\u001b[1;33m)\u001b[0m\u001b[1;33m}\u001b[0m\u001b[1;33m\u001b[0m\u001b[1;33m\u001b[0m\u001b[0m\n\u001b[1;32m----> 2\u001b[1;33m \u001b[0md\u001b[0m\u001b[1;33m[\u001b[0m\u001b[1;34m\"key4\"\u001b[0m\u001b[1;33m]\u001b[0m \u001b[1;33m=\u001b[0m \u001b[0mint\u001b[0m\u001b[1;33m(\u001b[0m\u001b[0minput\u001b[0m\u001b[1;33m(\u001b[0m\u001b[1;33m)\u001b[0m\u001b[1;33m)\u001b[0m\u001b[1;33m\u001b[0m\u001b[1;33m\u001b[0m\u001b[0m\n\u001b[0m",
      "\u001b[1;31mValueError\u001b[0m: invalid literal for int() with base 10: 'hfgdsigf'"
     ]
    }
   ],
   "source": [
    "d = {\"key1\": \"sudh\", \"key2\":[1,2,3,4], \"key3\": (4,5,6,7,7)}\n",
    "d[\"key4\"] = int(input()) "
   ]
  },
  {
   "cell_type": "code",
   "execution_count": 33,
   "id": "542ff036",
   "metadata": {},
   "outputs": [
    {
     "name": "stdout",
     "output_type": "stream",
     "text": [
      "hiufgf\n",
      "invalid literal for int() with base 10: 'hiufgf'\n"
     ]
    }
   ],
   "source": [
    "try :\n",
    "    d = {\"key1\": \"sudh\", \"key2\":[1,2,3,4], \"key3\": (4,5,6,7,7)}\n",
    "    d[\"key4\"] = int(input())    \n",
    "except ValueError as sudh :\n",
    "         print(sudh)"
   ]
  },
  {
   "cell_type": "code",
   "execution_count": 35,
   "id": "35ca8eda",
   "metadata": {},
   "outputs": [
    {
     "name": "stdout",
     "output_type": "stream",
     "text": [
      "hiugdf\n",
      "invalid literal for int() with base 10: 'hiugdf'\n"
     ]
    }
   ],
   "source": [
    "try :\n",
    "    d = {\"key1\": \"sudh\", \"key2\":[1,2,3,4], \"key3\": (4,5,6,7,7)}\n",
    "    d[\"key4\"] = int(input())  \n",
    "    f = open(\"test2\", \"r\")\n",
    "except ValueError as sudh :\n",
    "         print(sudh)"
   ]
  },
  {
   "cell_type": "code",
   "execution_count": 36,
   "id": "12e0181e",
   "metadata": {},
   "outputs": [
    {
     "name": "stdout",
     "output_type": "stream",
     "text": [
      "54534\n"
     ]
    },
    {
     "ename": "FileNotFoundError",
     "evalue": "[Errno 2] No such file or directory: 'test2'",
     "output_type": "error",
     "traceback": [
      "\u001b[1;31m---------------------------------------------------------------------------\u001b[0m",
      "\u001b[1;31mFileNotFoundError\u001b[0m                         Traceback (most recent call last)",
      "\u001b[1;32m<ipython-input-36-c8a3f3c0db9b>\u001b[0m in \u001b[0;36m<module>\u001b[1;34m\u001b[0m\n\u001b[0;32m      2\u001b[0m     \u001b[0md\u001b[0m \u001b[1;33m=\u001b[0m \u001b[1;33m{\u001b[0m\u001b[1;34m\"key1\"\u001b[0m\u001b[1;33m:\u001b[0m \u001b[1;34m\"sudh\"\u001b[0m\u001b[1;33m,\u001b[0m \u001b[1;34m\"key2\"\u001b[0m\u001b[1;33m:\u001b[0m\u001b[1;33m[\u001b[0m\u001b[1;36m1\u001b[0m\u001b[1;33m,\u001b[0m\u001b[1;36m2\u001b[0m\u001b[1;33m,\u001b[0m\u001b[1;36m3\u001b[0m\u001b[1;33m,\u001b[0m\u001b[1;36m4\u001b[0m\u001b[1;33m]\u001b[0m\u001b[1;33m,\u001b[0m \u001b[1;34m\"key3\"\u001b[0m\u001b[1;33m:\u001b[0m \u001b[1;33m(\u001b[0m\u001b[1;36m4\u001b[0m\u001b[1;33m,\u001b[0m\u001b[1;36m5\u001b[0m\u001b[1;33m,\u001b[0m\u001b[1;36m6\u001b[0m\u001b[1;33m,\u001b[0m\u001b[1;36m7\u001b[0m\u001b[1;33m,\u001b[0m\u001b[1;36m7\u001b[0m\u001b[1;33m)\u001b[0m\u001b[1;33m}\u001b[0m\u001b[1;33m\u001b[0m\u001b[1;33m\u001b[0m\u001b[0m\n\u001b[0;32m      3\u001b[0m     \u001b[0md\u001b[0m\u001b[1;33m[\u001b[0m\u001b[1;34m\"key4\"\u001b[0m\u001b[1;33m]\u001b[0m \u001b[1;33m=\u001b[0m \u001b[0mint\u001b[0m\u001b[1;33m(\u001b[0m\u001b[0minput\u001b[0m\u001b[1;33m(\u001b[0m\u001b[1;33m)\u001b[0m\u001b[1;33m)\u001b[0m\u001b[1;33m\u001b[0m\u001b[1;33m\u001b[0m\u001b[0m\n\u001b[1;32m----> 4\u001b[1;33m     \u001b[0mf\u001b[0m \u001b[1;33m=\u001b[0m \u001b[0mopen\u001b[0m\u001b[1;33m(\u001b[0m\u001b[1;34m\"test2\"\u001b[0m\u001b[1;33m,\u001b[0m \u001b[1;34m\"r\"\u001b[0m\u001b[1;33m)\u001b[0m\u001b[1;33m\u001b[0m\u001b[1;33m\u001b[0m\u001b[0m\n\u001b[0m\u001b[0;32m      5\u001b[0m \u001b[1;32mexcept\u001b[0m \u001b[0mValueError\u001b[0m \u001b[1;32mas\u001b[0m \u001b[0msudh\u001b[0m \u001b[1;33m:\u001b[0m\u001b[1;33m\u001b[0m\u001b[1;33m\u001b[0m\u001b[0m\n\u001b[0;32m      6\u001b[0m          \u001b[0mprint\u001b[0m\u001b[1;33m(\u001b[0m\u001b[0msudh\u001b[0m\u001b[1;33m)\u001b[0m\u001b[1;33m\u001b[0m\u001b[1;33m\u001b[0m\u001b[0m\n",
      "\u001b[1;31mFileNotFoundError\u001b[0m: [Errno 2] No such file or directory: 'test2'"
     ]
    }
   ],
   "source": [
    "try :\n",
    "    d = {\"key1\": \"sudh\", \"key2\":[1,2,3,4], \"key3\": (4,5,6,7,7)}\n",
    "    d[\"key4\"] = int(input())  \n",
    "    f = open(\"test2\", \"r\")\n",
    "except ValueError as sudh :\n",
    "         print(sudh)"
   ]
  },
  {
   "cell_type": "code",
   "execution_count": 37,
   "id": "5cef9320",
   "metadata": {},
   "outputs": [
    {
     "name": "stdout",
     "output_type": "stream",
     "text": [
      "32658732\n",
      "[Errno 2] No such file or directory: 'test2'\n"
     ]
    }
   ],
   "source": [
    "try :\n",
    "    d = {\"key1\": \"sudh\", \"key2\":[1,2,3,4], \"key3\": (4,5,6,7,7)}\n",
    "    d[\"key4\"] = int(input())  \n",
    "    f = open(\"test2\", \"r\")\n",
    "except Exception as sudh :\n",
    "         print(sudh)"
   ]
  },
  {
   "cell_type": "code",
   "execution_count": 39,
   "id": "0d502b0b",
   "metadata": {},
   "outputs": [
    {
     "name": "stdout",
     "output_type": "stream",
     "text": [
      "3435\n",
      "[Errno 2] No such file or directory: 'test2'\n"
     ]
    }
   ],
   "source": [
    "try :\n",
    "    d = {\"key1\": \"sudh\", \"key2\":[1,2,3,4], \"key3\": (4,5,6,7,7)}\n",
    "    d[\"key4\"] = int(input())  \n",
    "    f = open(\"test2\", \"r\")\n",
    "except Exception as sudh :\n",
    "    print(sudh)\n",
    "except FileNotFoundError as e:\n",
    "    print(e)"
   ]
  },
  {
   "cell_type": "code",
   "execution_count": 41,
   "id": "53ced177",
   "metadata": {},
   "outputs": [
    {
     "name": "stdout",
     "output_type": "stream",
     "text": [
      "sgfef\n",
      "this is my exception class invalid literal for int() with base 10: 'sgfef'\n"
     ]
    }
   ],
   "source": [
    "try :\n",
    "    d = {\"key1\": \"sudh\", \"key2\":[1,2,3,4], \"key3\": (4,5,6,7,7)}\n",
    "    d[\"key4\"] = int(input())  \n",
    "    f = open(\"test2\", \"r\")\n",
    "except Exception as ee:\n",
    "    print(\"this is my exception class\", ee)\n",
    "except Exception as sudh :\n",
    "    print(sudh)\n",
    "except FileNotFoundError as e:\n",
    "    print(e)"
   ]
  },
  {
   "cell_type": "code",
   "execution_count": 43,
   "id": "fb05310c",
   "metadata": {},
   "outputs": [
    {
     "name": "stdout",
     "output_type": "stream",
     "text": [
      "sdgfwef\n",
      "invalid literal for int() with base 10: 'sdgfwef'\n"
     ]
    }
   ],
   "source": [
    "try :\n",
    "    d = {\"key1\": \"sudh\", \"key2\":[1,2,3,4], \"key3\": (4,5,6,7,7)}\n",
    "    d[\"key4\"] = int(input())  \n",
    "    f = open(\"test2\", \"r\")\n",
    "\n",
    "except ValueError as sudh :\n",
    "    print(sudh)\n",
    "except FileNotFoundError as e:\n",
    "    print(e)\n",
    "except Exception as ee:\n",
    "    print(\"this is my exception class\", ee)"
   ]
  },
  {
   "cell_type": "code",
   "execution_count": 44,
   "id": "f5bf0683",
   "metadata": {},
   "outputs": [
    {
     "name": "stdout",
     "output_type": "stream",
     "text": [
      "547542\n",
      "[Errno 2] No such file or directory: 'test2'\n"
     ]
    }
   ],
   "source": [
    "try :\n",
    "    d = {\"key1\": \"sudh\", \"key2\":[1,2,3,4], \"key3\": (4,5,6,7,7)}\n",
    "    d[\"key4\"] = int(input())  \n",
    "    f = open(\"test2\", \"r\")\n",
    "\n",
    "except ValueError as sudh :\n",
    "    print(sudh)\n",
    "except FileNotFoundError as e:\n",
    "    print(e)\n",
    "except Exception as ee:\n",
    "    print(\"this is my exception class\", ee)"
   ]
  },
  {
   "cell_type": "code",
   "execution_count": 45,
   "id": "484b9586",
   "metadata": {},
   "outputs": [
    {
     "name": "stdout",
     "output_type": "stream",
     "text": [
      "this will execute once my try block will be executed successfully\n"
     ]
    }
   ],
   "source": [
    "try :\n",
    "    f = open(\"test1.txt\", \"w\")\n",
    "    f.write(\"this is my code in try\")\n",
    "except Exception as e:\n",
    "    print(\"this will handle an error\")\n",
    "else:\n",
    "    print(\"this will execute once my try block will be executed successfully\")\n",
    "    f.close()"
   ]
  },
  {
   "cell_type": "code",
   "execution_count": 47,
   "id": "58723410",
   "metadata": {},
   "outputs": [
    {
     "name": "stdout",
     "output_type": "stream",
     "text": [
      "this will handle an error not writable\n"
     ]
    }
   ],
   "source": [
    "try :\n",
    "    f = open(\"test1.txt\", \"r\")\n",
    "    f.write(\"this is my code in try\")\n",
    "except Exception as e:\n",
    "    print(\"this will handle an error\", e)\n",
    "else:\n",
    "    print(\"this will execute once my try block will be executed successfully\")\n",
    "    f.close()"
   ]
  },
  {
   "cell_type": "code",
   "execution_count": 48,
   "id": "daf829aa",
   "metadata": {},
   "outputs": [
    {
     "name": "stdout",
     "output_type": "stream",
     "text": [
      "this will handle an error [Errno 2] No such file or directory: 'test5.txt'\n"
     ]
    }
   ],
   "source": [
    "try :\n",
    "    f = open(\"test5.txt\", \"r\")\n",
    "    f.write(\"this is my code in try\")\n",
    "except Exception as e:\n",
    "    print(\"this will handle an error\", e)\n",
    "else:\n",
    "    print(\"this will execute once my try block will be executed successfully\")\n",
    "    f.close()"
   ]
  },
  {
   "cell_type": "code",
   "execution_count": 49,
   "id": "7dbf7543",
   "metadata": {},
   "outputs": [
    {
     "name": "stdout",
     "output_type": "stream",
     "text": [
      "ggfgasudfg [Errno 2] No such file or directory: 'test43'\n",
      "do this for sure\n"
     ]
    }
   ],
   "source": [
    "try:\n",
    "    f = open(\"test43\", 'r')\n",
    "except Exception as e:\n",
    "    print(\"ggfgasudfg\", e)\n",
    "finally:\n",
    "    print(\"do this for sure\")"
   ]
  },
  {
   "cell_type": "code",
   "execution_count": 50,
   "id": "c5fb1fcd",
   "metadata": {},
   "outputs": [
    {
     "name": "stdout",
     "output_type": "stream",
     "text": [
      "ggfgasudfg [Errno 2] No such file or directory: 'test43'\n",
      "do this for sure\n"
     ]
    }
   ],
   "source": [
    "try:\n",
    "    f = open(\"test43\", 'r')\n",
    "except Exception as e:\n",
    "    print(\"ggfgasudfg\", e)\n",
    "else:\n",
    "    print(\"do this on successful execution of try block\")\n",
    "finally:\n",
    "    print(\"do this for sure\")"
   ]
  },
  {
   "cell_type": "code",
   "execution_count": 51,
   "id": "8ddf0f1f",
   "metadata": {},
   "outputs": [
    {
     "name": "stdout",
     "output_type": "stream",
     "text": [
      "do this on successful execution of try block\n",
      "do this for sure\n"
     ]
    }
   ],
   "source": [
    "try:\n",
    "    f = open(\"test43.txt\", 'w')\n",
    "except Exception as e:\n",
    "    print(\"ggfgasudfg\", e)\n",
    "else:\n",
    "    print(\"do this on successful execution of try block\")\n",
    "finally:\n",
    "    print(\"do this for sure\")"
   ]
  },
  {
   "cell_type": "code",
   "execution_count": 52,
   "id": "d57b6086",
   "metadata": {},
   "outputs": [
    {
     "name": "stdout",
     "output_type": "stream",
     "text": [
      "do this on successful execution of try block\n",
      "do this for sure\n"
     ]
    },
    {
     "ename": "FileNotFoundError",
     "evalue": "[Errno 2] No such file or directory: 'hgfjhdvf'",
     "output_type": "error",
     "traceback": [
      "\u001b[1;31m---------------------------------------------------------------------------\u001b[0m",
      "\u001b[1;31mFileNotFoundError\u001b[0m                         Traceback (most recent call last)",
      "\u001b[1;32m<ipython-input-52-e7c9d94b721a>\u001b[0m in \u001b[0;36m<module>\u001b[1;34m\u001b[0m\n\u001b[0;32m      7\u001b[0m \u001b[1;32mfinally\u001b[0m\u001b[1;33m:\u001b[0m\u001b[1;33m\u001b[0m\u001b[1;33m\u001b[0m\u001b[0m\n\u001b[0;32m      8\u001b[0m     \u001b[0mprint\u001b[0m\u001b[1;33m(\u001b[0m\u001b[1;34m\"do this for sure\"\u001b[0m\u001b[1;33m)\u001b[0m\u001b[1;33m\u001b[0m\u001b[1;33m\u001b[0m\u001b[0m\n\u001b[1;32m----> 9\u001b[1;33m     \u001b[0mf\u001b[0m \u001b[1;33m=\u001b[0m \u001b[0mopen\u001b[0m\u001b[1;33m(\u001b[0m\u001b[1;34m\"hgfjhdvf\"\u001b[0m\u001b[1;33m,\u001b[0m \u001b[1;34m\"r\"\u001b[0m\u001b[1;33m)\u001b[0m\u001b[1;33m\u001b[0m\u001b[1;33m\u001b[0m\u001b[0m\n\u001b[0m",
      "\u001b[1;31mFileNotFoundError\u001b[0m: [Errno 2] No such file or directory: 'hgfjhdvf'"
     ]
    }
   ],
   "source": [
    "try:\n",
    "    f = open(\"test43.txt\", 'w')\n",
    "except Exception as e:\n",
    "    print(\"ggfgasudfg\", e)\n",
    "else:\n",
    "    print(\"do this on successful execution of try block\")\n",
    "finally:\n",
    "    print(\"do this for sure\")\n",
    "    f = open(\"hgfjhdvf\", \"r\")"
   ]
  },
  {
   "cell_type": "code",
   "execution_count": 53,
   "id": "4d7a3ac2",
   "metadata": {},
   "outputs": [
    {
     "name": "stdout",
     "output_type": "stream",
     "text": [
      "do this on successful execution of try block\n",
      "do this for sure\n",
      "handle this \n",
      "it will come to this block for sure\n"
     ]
    }
   ],
   "source": [
    "try:\n",
    "    f = open(\"test43.txt\", 'w')\n",
    "except Exception as e:\n",
    "    print(\"ggfgasudfg\", e)\n",
    "else:\n",
    "    print(\"do this on successful execution of try block\")\n",
    "finally:\n",
    "    print(\"do this for sure\")\n",
    "    try:\n",
    "        f = open(\"hgfjhdvf\", \"r\")\n",
    "    except:\n",
    "        print(\"handle this \")\n",
    "    finally:\n",
    "        print(\"it will come to this block for sure\")"
   ]
  },
  {
   "cell_type": "code",
   "execution_count": 54,
   "id": "b4aaccf9",
   "metadata": {},
   "outputs": [],
   "source": [
    "def askint():\n",
    "    a = int(input())\n",
    "    return a"
   ]
  },
  {
   "cell_type": "code",
   "execution_count": 55,
   "id": "43a837bb",
   "metadata": {},
   "outputs": [
    {
     "name": "stdout",
     "output_type": "stream",
     "text": [
      "974\n"
     ]
    },
    {
     "data": {
      "text/plain": [
       "974"
      ]
     },
     "execution_count": 55,
     "metadata": {},
     "output_type": "execute_result"
    }
   ],
   "source": [
    "askint()"
   ]
  },
  {
   "cell_type": "code",
   "execution_count": 56,
   "id": "6885c378",
   "metadata": {},
   "outputs": [
    {
     "name": "stdout",
     "output_type": "stream",
     "text": [
      "shfiuge\n"
     ]
    },
    {
     "ename": "ValueError",
     "evalue": "invalid literal for int() with base 10: 'shfiuge'",
     "output_type": "error",
     "traceback": [
      "\u001b[1;31m---------------------------------------------------------------------------\u001b[0m",
      "\u001b[1;31mValueError\u001b[0m                                Traceback (most recent call last)",
      "\u001b[1;32m<ipython-input-56-cc291aa76c10>\u001b[0m in \u001b[0;36m<module>\u001b[1;34m\u001b[0m\n\u001b[1;32m----> 1\u001b[1;33m \u001b[0maskint\u001b[0m\u001b[1;33m(\u001b[0m\u001b[1;33m)\u001b[0m\u001b[1;33m\u001b[0m\u001b[1;33m\u001b[0m\u001b[0m\n\u001b[0m",
      "\u001b[1;32m<ipython-input-54-631861caf452>\u001b[0m in \u001b[0;36maskint\u001b[1;34m()\u001b[0m\n\u001b[0;32m      1\u001b[0m \u001b[1;32mdef\u001b[0m \u001b[0maskint\u001b[0m\u001b[1;33m(\u001b[0m\u001b[1;33m)\u001b[0m\u001b[1;33m:\u001b[0m\u001b[1;33m\u001b[0m\u001b[1;33m\u001b[0m\u001b[0m\n\u001b[1;32m----> 2\u001b[1;33m     \u001b[0ma\u001b[0m \u001b[1;33m=\u001b[0m \u001b[0mint\u001b[0m\u001b[1;33m(\u001b[0m\u001b[0minput\u001b[0m\u001b[1;33m(\u001b[0m\u001b[1;33m)\u001b[0m\u001b[1;33m)\u001b[0m\u001b[1;33m\u001b[0m\u001b[1;33m\u001b[0m\u001b[0m\n\u001b[0m\u001b[0;32m      3\u001b[0m     \u001b[1;32mreturn\u001b[0m \u001b[0ma\u001b[0m\u001b[1;33m\u001b[0m\u001b[1;33m\u001b[0m\u001b[0m\n",
      "\u001b[1;31mValueError\u001b[0m: invalid literal for int() with base 10: 'shfiuge'"
     ]
    }
   ],
   "source": [
    "askint()"
   ]
  },
  {
   "cell_type": "code",
   "execution_count": 59,
   "id": "c2fb7e0b",
   "metadata": {},
   "outputs": [],
   "source": [
    "def askint():\n",
    "    try:\n",
    "        a = int(input())\n",
    "        return a\n",
    "    except Exception as e:\n",
    "            print('this is my input error', e)"
   ]
  },
  {
   "cell_type": "code",
   "execution_count": 60,
   "id": "5800799b",
   "metadata": {},
   "outputs": [
    {
     "name": "stdout",
     "output_type": "stream",
     "text": [
      "355\n"
     ]
    },
    {
     "data": {
      "text/plain": [
       "355"
      ]
     },
     "execution_count": 60,
     "metadata": {},
     "output_type": "execute_result"
    }
   ],
   "source": [
    "askint()"
   ]
  },
  {
   "cell_type": "code",
   "execution_count": 61,
   "id": "199ca05e",
   "metadata": {},
   "outputs": [
    {
     "name": "stdout",
     "output_type": "stream",
     "text": [
      "ohfgef\n",
      "this is my input error invalid literal for int() with base 10: 'ohfgef'\n"
     ]
    }
   ],
   "source": [
    "askint()"
   ]
  },
  {
   "cell_type": "code",
   "execution_count": 76,
   "id": "643c5aaf",
   "metadata": {},
   "outputs": [
    {
     "name": "stdout",
     "output_type": "stream",
     "text": [
      "enetr the integer:dytffdf\n",
      "No, you did not enter an integer\n",
      "enetr the integer:uvugy\n",
      "No, you did not enter an integer\n",
      "enetr the integer:uhg\n",
      "No, you did not enter an integer\n",
      "enetr the integer:5765768\n"
     ]
    },
    {
     "data": {
      "text/plain": [
       "'yes, you have entered an integer'"
      ]
     },
     "execution_count": 76,
     "metadata": {},
     "output_type": "execute_result"
    }
   ],
   "source": [
    "def fun1():\n",
    "    flag = True\n",
    "    while flag:\n",
    "        try:\n",
    "            a = int(input(\"enetr the integer:\"))\n",
    "            if type(a) == int:\n",
    "                return \"yes, you have entered an integer\"\n",
    "                flag = False\n",
    "                \n",
    "        except Exception as e:\n",
    "            print(\"No, you did not enter an integer\")\n",
    "            \n",
    "fun1()"
   ]
  },
  {
   "cell_type": "code",
   "execution_count": 78,
   "id": "9251901b",
   "metadata": {},
   "outputs": [
    {
     "name": "stdout",
     "output_type": "stream",
     "text": [
      "dhfgioh\n",
      "Enter the integer\n",
      "hiushf\n",
      "Enter the integer\n",
      "ijsghufh\n",
      "Enter the integer\n",
      "4646\n"
     ]
    }
   ],
   "source": [
    "def integer():\n",
    "    while True:\n",
    "        \"\"\"Function asks for an integer unless provided otherwise\"\"\"\n",
    "        try:\n",
    "            x = int(input())\n",
    "            break\n",
    "        except ValueError as e:\n",
    "            print(\"Enter the integer\")\n",
    "            \n",
    "integer()  \n",
    "    "
   ]
  },
  {
   "cell_type": "code",
   "execution_count": 96,
   "id": "5adce2f8",
   "metadata": {},
   "outputs": [],
   "source": [
    "def askint1():\n",
    "    while True:\n",
    "        try:\n",
    "            num = int(input(\"enter only integer\"))\n",
    "            break\n",
    "            \n",
    "        except ValueError:\n",
    "            print(\"Please input number only\")\n",
    "            continue"
   ]
  },
  {
   "cell_type": "code",
   "execution_count": 97,
   "id": "9ee0b40b",
   "metadata": {},
   "outputs": [
    {
     "ename": "TypeError",
     "evalue": "askint1() takes 0 positional arguments but 1 was given",
     "output_type": "error",
     "traceback": [
      "\u001b[1;31m---------------------------------------------------------------------------\u001b[0m",
      "\u001b[1;31mTypeError\u001b[0m                                 Traceback (most recent call last)",
      "\u001b[1;32m<ipython-input-97-9bfe876b5a76>\u001b[0m in \u001b[0;36m<module>\u001b[1;34m\u001b[0m\n\u001b[1;32m----> 1\u001b[1;33m \u001b[0maskint1\u001b[0m\u001b[1;33m(\u001b[0m\u001b[1;36m4646\u001b[0m\u001b[1;33m)\u001b[0m\u001b[1;33m\u001b[0m\u001b[1;33m\u001b[0m\u001b[0m\n\u001b[0m",
      "\u001b[1;31mTypeError\u001b[0m: askint1() takes 0 positional arguments but 1 was given"
     ]
    }
   ],
   "source": [
    "askint1(4646)"
   ]
  },
  {
   "cell_type": "code",
   "execution_count": 92,
   "id": "0d450b8b",
   "metadata": {},
   "outputs": [],
   "source": [
    "def test(a):\n",
    "    if a<0:\n",
    "        raise Exception(a)\n",
    "    return a"
   ]
  },
  {
   "cell_type": "code",
   "execution_count": 93,
   "id": "1d060815",
   "metadata": {},
   "outputs": [
    {
     "data": {
      "text/plain": [
       "4"
      ]
     },
     "execution_count": 93,
     "metadata": {},
     "output_type": "execute_result"
    }
   ],
   "source": [
    "test(4)"
   ]
  },
  {
   "cell_type": "code",
   "execution_count": 94,
   "id": "1ce34906",
   "metadata": {},
   "outputs": [
    {
     "ename": "Exception",
     "evalue": "-7",
     "output_type": "error",
     "traceback": [
      "\u001b[1;31m---------------------------------------------------------------------------\u001b[0m",
      "\u001b[1;31mException\u001b[0m                                 Traceback (most recent call last)",
      "\u001b[1;32m<ipython-input-94-922f305401ad>\u001b[0m in \u001b[0;36m<module>\u001b[1;34m\u001b[0m\n\u001b[1;32m----> 1\u001b[1;33m \u001b[0mtest\u001b[0m\u001b[1;33m(\u001b[0m\u001b[1;33m-\u001b[0m\u001b[1;36m7\u001b[0m\u001b[1;33m)\u001b[0m\u001b[1;33m\u001b[0m\u001b[1;33m\u001b[0m\u001b[0m\n\u001b[0m",
      "\u001b[1;32m<ipython-input-92-69ae46789e3c>\u001b[0m in \u001b[0;36mtest\u001b[1;34m(a)\u001b[0m\n\u001b[0;32m      1\u001b[0m \u001b[1;32mdef\u001b[0m \u001b[0mtest\u001b[0m\u001b[1;33m(\u001b[0m\u001b[0ma\u001b[0m\u001b[1;33m)\u001b[0m\u001b[1;33m:\u001b[0m\u001b[1;33m\u001b[0m\u001b[1;33m\u001b[0m\u001b[0m\n\u001b[0;32m      2\u001b[0m     \u001b[1;32mif\u001b[0m \u001b[0ma\u001b[0m\u001b[1;33m<\u001b[0m\u001b[1;36m0\u001b[0m\u001b[1;33m:\u001b[0m\u001b[1;33m\u001b[0m\u001b[1;33m\u001b[0m\u001b[0m\n\u001b[1;32m----> 3\u001b[1;33m         \u001b[1;32mraise\u001b[0m \u001b[0mException\u001b[0m\u001b[1;33m(\u001b[0m\u001b[0ma\u001b[0m\u001b[1;33m)\u001b[0m\u001b[1;33m\u001b[0m\u001b[1;33m\u001b[0m\u001b[0m\n\u001b[0m\u001b[0;32m      4\u001b[0m     \u001b[1;32mreturn\u001b[0m \u001b[0ma\u001b[0m\u001b[1;33m\u001b[0m\u001b[1;33m\u001b[0m\u001b[0m\n",
      "\u001b[1;31mException\u001b[0m: -7"
     ]
    }
   ],
   "source": [
    "test(-7)"
   ]
  },
  {
   "cell_type": "code",
   "execution_count": 98,
   "id": "d3049acb",
   "metadata": {},
   "outputs": [
    {
     "ename": "FileNotFoundError",
     "evalue": "[Errno 2] No such file or directory: 'gddifg'",
     "output_type": "error",
     "traceback": [
      "\u001b[1;31m---------------------------------------------------------------------------\u001b[0m",
      "\u001b[1;31mFileNotFoundError\u001b[0m                         Traceback (most recent call last)",
      "\u001b[1;32m<ipython-input-98-361add47cb5f>\u001b[0m in \u001b[0;36m<module>\u001b[1;34m\u001b[0m\n\u001b[1;32m----> 1\u001b[1;33m \u001b[0mg\u001b[0m \u001b[1;33m=\u001b[0m \u001b[0mopen\u001b[0m\u001b[1;33m(\u001b[0m\u001b[1;34m\"gddifg\"\u001b[0m\u001b[1;33m,\u001b[0m \u001b[1;34m\"r\"\u001b[0m\u001b[1;33m)\u001b[0m\u001b[1;33m\u001b[0m\u001b[1;33m\u001b[0m\u001b[0m\n\u001b[0m",
      "\u001b[1;31mFileNotFoundError\u001b[0m: [Errno 2] No such file or directory: 'gddifg'"
     ]
    }
   ],
   "source": [
    "g = open(\"gddifg\", \"r\")"
   ]
  },
  {
   "cell_type": "code",
   "execution_count": 99,
   "id": "cbfc7ed9",
   "metadata": {},
   "outputs": [
    {
     "name": "stdout",
     "output_type": "stream",
     "text": [
      "calling my raised exception\n"
     ]
    }
   ],
   "source": [
    "try:\n",
    "    test(\"sudh\")\n",
    "except Exception as e:\n",
    "    print(\"calling my raised exception\")"
   ]
  },
  {
   "cell_type": "code",
   "execution_count": 103,
   "id": "fb34c959",
   "metadata": {},
   "outputs": [
    {
     "name": "stdout",
     "output_type": "stream",
     "text": [
      "sudh\n",
      "calling my raised exception '<' not supported between instances of 'str' and 'int'\n"
     ]
    }
   ],
   "source": [
    "try:\n",
    "    a = input()\n",
    "    test(a)\n",
    "except Exception as e:\n",
    "    print(\"calling my raised exception\", e)"
   ]
  },
  {
   "cell_type": "code",
   "execution_count": null,
   "id": "6b98262b",
   "metadata": {},
   "outputs": [],
   "source": []
  }
 ],
 "metadata": {
  "kernelspec": {
   "display_name": "Python 3",
   "language": "python",
   "name": "python3"
  },
  "language_info": {
   "codemirror_mode": {
    "name": "ipython",
    "version": 3
   },
   "file_extension": ".py",
   "mimetype": "text/x-python",
   "name": "python",
   "nbconvert_exporter": "python",
   "pygments_lexer": "ipython3",
   "version": "3.8.8"
  }
 },
 "nbformat": 4,
 "nbformat_minor": 5
}
