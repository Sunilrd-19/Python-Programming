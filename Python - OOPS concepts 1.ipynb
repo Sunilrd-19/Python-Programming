{
 "cells": [
  {
   "cell_type": "code",
   "execution_count": 3,
   "id": "e2104b91",
   "metadata": {},
   "outputs": [
    {
     "name": "stdout",
     "output_type": "stream",
     "text": [
      "1\n",
      "2\n",
      "3\n",
      "4\n",
      "5\n"
     ]
    }
   ],
   "source": [
    "l = [1,2,3,4,5]\n",
    "for i in l:\n",
    "    print(i)"
   ]
  },
  {
   "cell_type": "code",
   "execution_count": 4,
   "id": "3bb47cca",
   "metadata": {},
   "outputs": [],
   "source": [
    "class car :\n",
    "    pass"
   ]
  },
  {
   "cell_type": "code",
   "execution_count": 5,
   "id": "73a267a0",
   "metadata": {},
   "outputs": [],
   "source": [
    "class car :\n",
    "    def __init__(self, brand_name, fueltype, body_type):\n",
    "        \n",
    "        self.brand_name = brand_name\n",
    "        self.fueltype = fueltype\n",
    "        self.body_type = body_type\n",
    "        \n",
    "    def desc_car():\n",
    "        print(self.brand_name, self.fueltype, self.body_type)"
   ]
  },
  {
   "cell_type": "code",
   "execution_count": 12,
   "id": "2addb974",
   "metadata": {},
   "outputs": [],
   "source": [
    "innova = car(\"toyota\", \"petrol\", \"suv\")"
   ]
  },
  {
   "cell_type": "code",
   "execution_count": 11,
   "id": "73563798",
   "metadata": {},
   "outputs": [
    {
     "ename": "TypeError",
     "evalue": "desc_car() takes 0 positional arguments but 1 was given",
     "output_type": "error",
     "traceback": [
      "\u001b[1;31m---------------------------------------------------------------------------\u001b[0m",
      "\u001b[1;31mTypeError\u001b[0m                                 Traceback (most recent call last)",
      "\u001b[1;32m<ipython-input-11-cfdb7103a8d5>\u001b[0m in \u001b[0;36m<module>\u001b[1;34m\u001b[0m\n\u001b[1;32m----> 1\u001b[1;33m \u001b[0minnova\u001b[0m\u001b[1;33m.\u001b[0m\u001b[0mdesc_car\u001b[0m\u001b[1;33m(\u001b[0m\u001b[1;33m)\u001b[0m\u001b[1;33m\u001b[0m\u001b[1;33m\u001b[0m\u001b[0m\n\u001b[0m",
      "\u001b[1;31mTypeError\u001b[0m: desc_car() takes 0 positional arguments but 1 was given"
     ]
    }
   ],
   "source": [
    "innova.desc_car()"
   ]
  },
  {
   "cell_type": "code",
   "execution_count": 16,
   "id": "19570655",
   "metadata": {},
   "outputs": [],
   "source": [
    "class car :\n",
    "    def __init__(self, brand_name, fueltype, body_type):\n",
    "        \n",
    "        self.brand_name = brand_name\n",
    "        self.fueltype = fueltype\n",
    "        self.body_type = body_type\n",
    "        \n",
    "    def desc_car(self):\n",
    "        print(self.brand_name, self.fueltype, self.body_type)"
   ]
  },
  {
   "cell_type": "code",
   "execution_count": 17,
   "id": "fff4cb87",
   "metadata": {},
   "outputs": [],
   "source": [
    "innova = car(\"toyota\", \"petrol\", \"suv\")"
   ]
  },
  {
   "cell_type": "code",
   "execution_count": 18,
   "id": "0dad8c30",
   "metadata": {},
   "outputs": [
    {
     "name": "stdout",
     "output_type": "stream",
     "text": [
      "toyota petrol suv\n"
     ]
    }
   ],
   "source": [
    "innova.desc_car()"
   ]
  },
  {
   "cell_type": "code",
   "execution_count": 19,
   "id": "93db9c56",
   "metadata": {},
   "outputs": [
    {
     "data": {
      "text/plain": [
       "'toyota'"
      ]
     },
     "execution_count": 19,
     "metadata": {},
     "output_type": "execute_result"
    }
   ],
   "source": [
    "innova.brand_name"
   ]
  },
  {
   "cell_type": "code",
   "execution_count": 21,
   "id": "cf2c271b",
   "metadata": {},
   "outputs": [],
   "source": [
    "innova = car(\"toyota\", \"petrol\", \"suv\")\n",
    "nexon = car(\"tata\", \"petrol\", \"min suv\")\n",
    "fortuner = car(\"toyota\", \"diesel\", \"suv\")"
   ]
  },
  {
   "cell_type": "code",
   "execution_count": 22,
   "id": "afc707de",
   "metadata": {},
   "outputs": [
    {
     "name": "stdout",
     "output_type": "stream",
     "text": [
      "tata petrol min suv\n"
     ]
    }
   ],
   "source": [
    "nexon.desc_car()"
   ]
  },
  {
   "cell_type": "code",
   "execution_count": 23,
   "id": "6fb87b75",
   "metadata": {},
   "outputs": [
    {
     "name": "stdout",
     "output_type": "stream",
     "text": [
      "toyota diesel suv\n"
     ]
    }
   ],
   "source": [
    "fortuner.desc_car()"
   ]
  },
  {
   "cell_type": "code",
   "execution_count": 24,
   "id": "3feef643",
   "metadata": {},
   "outputs": [
    {
     "name": "stdout",
     "output_type": "stream",
     "text": [
      "10\n"
     ]
    }
   ],
   "source": [
    "a = 10\n",
    "print(a)"
   ]
  },
  {
   "cell_type": "code",
   "execution_count": 29,
   "id": "378c5195",
   "metadata": {},
   "outputs": [],
   "source": [
    "class car:\n",
    "    def __init__ (self, body_type, engine, fuel_type):\n",
    "        self.body_type1 = body_type\n",
    "        self.engine = engine\n",
    "        self.fuel_type = fuel_type\n",
    "        \n",
    "    def test(self):\n",
    "        print(\"this is my first method in my car class\")"
   ]
  },
  {
   "cell_type": "code",
   "execution_count": 30,
   "id": "c73d4886",
   "metadata": {},
   "outputs": [],
   "source": [
    "fortuner = car(\"suv\", \"BS4\", \"petrol\")"
   ]
  },
  {
   "cell_type": "code",
   "execution_count": 31,
   "id": "da6234e4",
   "metadata": {},
   "outputs": [],
   "source": [
    "nexon = car(\"suv\", \"BS5\", \"petrol\")"
   ]
  },
  {
   "cell_type": "code",
   "execution_count": 32,
   "id": "777962f4",
   "metadata": {},
   "outputs": [
    {
     "ename": "AttributeError",
     "evalue": "'car' object has no attribute 'body_type'",
     "output_type": "error",
     "traceback": [
      "\u001b[1;31m---------------------------------------------------------------------------\u001b[0m",
      "\u001b[1;31mAttributeError\u001b[0m                            Traceback (most recent call last)",
      "\u001b[1;32m<ipython-input-32-edb21ecb9a42>\u001b[0m in \u001b[0;36m<module>\u001b[1;34m\u001b[0m\n\u001b[1;32m----> 1\u001b[1;33m \u001b[0mfortuner\u001b[0m\u001b[1;33m.\u001b[0m\u001b[0mbody_type\u001b[0m\u001b[1;33m\u001b[0m\u001b[1;33m\u001b[0m\u001b[0m\n\u001b[0m",
      "\u001b[1;31mAttributeError\u001b[0m: 'car' object has no attribute 'body_type'"
     ]
    }
   ],
   "source": [
    "fortuner.body_type"
   ]
  },
  {
   "cell_type": "code",
   "execution_count": 33,
   "id": "e278c821",
   "metadata": {},
   "outputs": [
    {
     "data": {
      "text/plain": [
       "'BS5'"
      ]
     },
     "execution_count": 33,
     "metadata": {},
     "output_type": "execute_result"
    }
   ],
   "source": [
    "nexon.engine"
   ]
  },
  {
   "cell_type": "code",
   "execution_count": 34,
   "id": "9570864a",
   "metadata": {},
   "outputs": [
    {
     "data": {
      "text/plain": [
       "'suv'"
      ]
     },
     "execution_count": 34,
     "metadata": {},
     "output_type": "execute_result"
    }
   ],
   "source": [
    "fortuner.body_type1"
   ]
  },
  {
   "cell_type": "code",
   "execution_count": 36,
   "id": "986e92be",
   "metadata": {},
   "outputs": [
    {
     "name": "stdout",
     "output_type": "stream",
     "text": [
      "this is my first method in my car class\n"
     ]
    }
   ],
   "source": [
    "fortuner.test()"
   ]
  },
  {
   "cell_type": "code",
   "execution_count": 1,
   "id": "0759dff9",
   "metadata": {},
   "outputs": [],
   "source": [
    "class car:\n",
    "    \n",
    "    def test(sudh):\n",
    "        print(\"this is my first method in my car class\")\n",
    "        \n",
    "        "
   ]
  },
  {
   "cell_type": "code",
   "execution_count": 2,
   "id": "b18a6061",
   "metadata": {},
   "outputs": [],
   "source": [
    "x = car()"
   ]
  },
  {
   "cell_type": "code",
   "execution_count": 3,
   "id": "25dfb983",
   "metadata": {},
   "outputs": [
    {
     "name": "stdout",
     "output_type": "stream",
     "text": [
      "this is my first method in my car class\n"
     ]
    }
   ],
   "source": [
    "x.test()"
   ]
  },
  {
   "cell_type": "code",
   "execution_count": 4,
   "id": "bc13662b",
   "metadata": {},
   "outputs": [],
   "source": [
    "class car:\n",
    "    \n",
    "    def test(sudh,b, c):\n",
    "        print(\"this is my first method in my car class\")\n",
    "        \n",
    "        "
   ]
  },
  {
   "cell_type": "code",
   "execution_count": 5,
   "id": "d2696efc",
   "metadata": {},
   "outputs": [],
   "source": [
    "x = car()"
   ]
  },
  {
   "cell_type": "code",
   "execution_count": 6,
   "id": "f019ccfd",
   "metadata": {},
   "outputs": [
    {
     "ename": "TypeError",
     "evalue": "test() missing 2 required positional arguments: 'b' and 'c'",
     "output_type": "error",
     "traceback": [
      "\u001b[1;31m---------------------------------------------------------------------------\u001b[0m",
      "\u001b[1;31mTypeError\u001b[0m                                 Traceback (most recent call last)",
      "\u001b[1;32m<ipython-input-6-c37734bf405f>\u001b[0m in \u001b[0;36m<module>\u001b[1;34m\u001b[0m\n\u001b[1;32m----> 1\u001b[1;33m \u001b[0mx\u001b[0m\u001b[1;33m.\u001b[0m\u001b[0mtest\u001b[0m\u001b[1;33m(\u001b[0m\u001b[1;33m)\u001b[0m\u001b[1;33m\u001b[0m\u001b[1;33m\u001b[0m\u001b[0m\n\u001b[0m",
      "\u001b[1;31mTypeError\u001b[0m: test() missing 2 required positional arguments: 'b' and 'c'"
     ]
    }
   ],
   "source": [
    "x.test()"
   ]
  },
  {
   "cell_type": "code",
   "execution_count": 7,
   "id": "94e656e2",
   "metadata": {},
   "outputs": [
    {
     "name": "stdout",
     "output_type": "stream",
     "text": [
      "this is my first method in my car class\n"
     ]
    }
   ],
   "source": [
    "x.test(6,\"hiufh\")"
   ]
  },
  {
   "cell_type": "code",
   "execution_count": 8,
   "id": "450e65d7",
   "metadata": {},
   "outputs": [
    {
     "name": "stdout",
     "output_type": "stream",
     "text": [
      "<class '__main__.car'>\n"
     ]
    }
   ],
   "source": [
    "print(type(x))"
   ]
  },
  {
   "cell_type": "code",
   "execution_count": 9,
   "id": "3606c483",
   "metadata": {},
   "outputs": [],
   "source": [
    "class list_parser:\n",
    "    def parcer(self,a):\n",
    "        if type(a) == list:\n",
    "            for i in a:\n",
    "                print(i)"
   ]
  },
  {
   "cell_type": "code",
   "execution_count": 10,
   "id": "9605f44b",
   "metadata": {},
   "outputs": [
    {
     "name": "stdout",
     "output_type": "stream",
     "text": [
      "1\n",
      "2\n",
      "3\n",
      "4\n",
      "5\n"
     ]
    }
   ],
   "source": [
    "c = list_parser()\n",
    "c.parcer([1,2,3,4,5])"
   ]
  },
  {
   "cell_type": "code",
   "execution_count": 5,
   "id": "ffc874f8",
   "metadata": {},
   "outputs": [],
   "source": [
    "class list_parser:\n",
    "    \n",
    "    def parser(self, a):\n",
    "        if type(a) == list:\n",
    "            for i in a:\n",
    "                print(i)\n",
    "                \n",
    "                \n",
    "    def revrese_list(self, z):\n",
    "        if type(z) == list:\n",
    "            return z[::-1]\n",
    "        "
   ]
  },
  {
   "cell_type": "code",
   "execution_count": 6,
   "id": "abb57f38",
   "metadata": {},
   "outputs": [
    {
     "name": "stdout",
     "output_type": "stream",
     "text": [
      "1\n",
      "2\n",
      "3\n",
      "4\n",
      "5\n",
      "6\n",
      "7\n"
     ]
    }
   ],
   "source": [
    "c = list_parser()\n",
    "c.parser([1,2,3,4,5,6,7])"
   ]
  },
  {
   "cell_type": "code",
   "execution_count": 7,
   "id": "a5682e42",
   "metadata": {},
   "outputs": [
    {
     "data": {
      "text/plain": [
       "[7, 6, 5, 4, 3, 2, 1]"
      ]
     },
     "execution_count": 7,
     "metadata": {},
     "output_type": "execute_result"
    }
   ],
   "source": [
    "c.revrese_list([1,2,3,4,5,6,7])"
   ]
  },
  {
   "cell_type": "code",
   "execution_count": 11,
   "id": "df0174ab",
   "metadata": {},
   "outputs": [],
   "source": [
    "class list_parser:\n",
    "    def __init__(self, l):\n",
    "        self.l = l\n",
    "    \n",
    "    def parser(self):\n",
    "        if type(self.l) == list:\n",
    "            for i in self.l:\n",
    "                print(i)\n",
    "                \n",
    "                \n",
    "    def revrese_list(self):\n",
    "        if type(self.l) == list:\n",
    "            return self.l[::-1]\n",
    "        "
   ]
  },
  {
   "cell_type": "code",
   "execution_count": 13,
   "id": "17bffacb",
   "metadata": {},
   "outputs": [
    {
     "name": "stdout",
     "output_type": "stream",
     "text": [
      "1\n",
      "2\n",
      "3\n",
      "4\n",
      "5\n",
      "6\n",
      "7\n"
     ]
    }
   ],
   "source": [
    "c = list_parser([1,2,3,4,5,6,7])\n",
    "c.parser()"
   ]
  },
  {
   "cell_type": "code",
   "execution_count": 15,
   "id": "19b25f98",
   "metadata": {},
   "outputs": [
    {
     "data": {
      "text/plain": [
       "[7, 6, 5, 4, 3, 2, 1]"
      ]
     },
     "execution_count": 15,
     "metadata": {},
     "output_type": "execute_result"
    }
   ],
   "source": [
    "c.revrese_list()"
   ]
  },
  {
   "cell_type": "code",
   "execution_count": 32,
   "id": "303611f6",
   "metadata": {},
   "outputs": [],
   "source": [
    "class dictionary_parsing:\n",
    "    def __init__(self, d):\n",
    "        self.d = d\n",
    "        \n",
    "    def mykeys(self):\n",
    "        if type(self.d)== dict:\n",
    "            return self.d.keys()\n",
    "        \n",
    "    def getvalues(self):\n",
    "        if type(self.d)== dict:\n",
    "            return self.d.values()\n",
    "\n",
    "    def inputkey(self):\n",
    "        self.mykey = input()\n",
    "        try:\n",
    "            return self.d[self.mykey]\n",
    "        except Exception as e:\n",
    "            print(e)\n",
    "            \n",
    "    def newval(self, mykey1, myval1):\n",
    "        if type(self.d) == dict:\n",
    "            self.d[mykey1] = myval1"
   ]
  },
  {
   "cell_type": "code",
   "execution_count": null,
   "id": "4680992b",
   "metadata": {},
   "outputs": [],
   "source": []
  },
  {
   "cell_type": "code",
   "execution_count": 22,
   "id": "c4501ae5",
   "metadata": {},
   "outputs": [],
   "source": [
    "class dict_parsing:\n",
    "    \n",
    "    def __init__(self, a):\n",
    "        self.a = a\n",
    "        \n",
    "    def getkeys(self):\n",
    "        if self.notdict():\n",
    "            return list(self.a.keys())\n",
    "        \n",
    "    def getvalues(self):\n",
    "        if self.notdict():\n",
    "            return list(self.a.values())\n",
    "        \n",
    "    def notdict(self):\n",
    "        if type(self.a) != dict:\n",
    "            raise Exception(self.a, \"Not a dictionary\")\n",
    "        return 1\n",
    "    def userinput(self):\n",
    "        self.a = eval(input())\n",
    "        print(self.a, type(self.a))\n",
    "        print(self.getkeys())\n",
    "        print(self.getvalues())\n",
    "        \n",
    "    def insertion(self, k, v):\n",
    "        self.a[k] = v"
   ]
  },
  {
   "cell_type": "code",
   "execution_count": 23,
   "id": "417eb5d1",
   "metadata": {},
   "outputs": [],
   "source": [
    "d = dict_parsing({\"k\":\"Chandra\", \"k2\":[1,2,3,4]})"
   ]
  },
  {
   "cell_type": "code",
   "execution_count": 24,
   "id": "480bd90a",
   "metadata": {},
   "outputs": [
    {
     "data": {
      "text/plain": [
       "['k', 'k2']"
      ]
     },
     "execution_count": 24,
     "metadata": {},
     "output_type": "execute_result"
    }
   ],
   "source": [
    "d.getkeys()"
   ]
  },
  {
   "cell_type": "code",
   "execution_count": 25,
   "id": "576c8112",
   "metadata": {},
   "outputs": [
    {
     "data": {
      "text/plain": [
       "['Chandra', [1, 2, 3, 4]]"
      ]
     },
     "execution_count": 25,
     "metadata": {},
     "output_type": "execute_result"
    }
   ],
   "source": [
    "d.getvalues()"
   ]
  },
  {
   "cell_type": "code",
   "execution_count": 31,
   "id": "251f596e",
   "metadata": {},
   "outputs": [
    {
     "ename": "Exception",
     "evalue": "([3, 4, 5, 6, 7], 'Not a dictionary')",
     "output_type": "error",
     "traceback": [
      "\u001b[1;31m---------------------------------------------------------------------------\u001b[0m",
      "\u001b[1;31mException\u001b[0m                                 Traceback (most recent call last)",
      "\u001b[1;32m<ipython-input-31-5d2f2bb5adb6>\u001b[0m in \u001b[0;36m<module>\u001b[1;34m\u001b[0m\n\u001b[0;32m      1\u001b[0m \u001b[0md\u001b[0m \u001b[1;33m=\u001b[0m \u001b[0mdict_parsing\u001b[0m\u001b[1;33m(\u001b[0m\u001b[1;33m[\u001b[0m\u001b[1;36m3\u001b[0m\u001b[1;33m,\u001b[0m\u001b[1;36m4\u001b[0m\u001b[1;33m,\u001b[0m\u001b[1;36m5\u001b[0m\u001b[1;33m,\u001b[0m\u001b[1;36m6\u001b[0m\u001b[1;33m,\u001b[0m\u001b[1;36m7\u001b[0m\u001b[1;33m]\u001b[0m\u001b[1;33m)\u001b[0m\u001b[1;33m\u001b[0m\u001b[1;33m\u001b[0m\u001b[0m\n\u001b[1;32m----> 2\u001b[1;33m \u001b[0md\u001b[0m\u001b[1;33m.\u001b[0m\u001b[0mnotdict\u001b[0m\u001b[1;33m(\u001b[0m\u001b[1;33m)\u001b[0m\u001b[1;33m\u001b[0m\u001b[1;33m\u001b[0m\u001b[0m\n\u001b[0m",
      "\u001b[1;32m<ipython-input-22-b91592781689>\u001b[0m in \u001b[0;36mnotdict\u001b[1;34m(self)\u001b[0m\n\u001b[0;32m     14\u001b[0m     \u001b[1;32mdef\u001b[0m \u001b[0mnotdict\u001b[0m\u001b[1;33m(\u001b[0m\u001b[0mself\u001b[0m\u001b[1;33m)\u001b[0m\u001b[1;33m:\u001b[0m\u001b[1;33m\u001b[0m\u001b[1;33m\u001b[0m\u001b[0m\n\u001b[0;32m     15\u001b[0m         \u001b[1;32mif\u001b[0m \u001b[0mtype\u001b[0m\u001b[1;33m(\u001b[0m\u001b[0mself\u001b[0m\u001b[1;33m.\u001b[0m\u001b[0ma\u001b[0m\u001b[1;33m)\u001b[0m \u001b[1;33m!=\u001b[0m \u001b[0mdict\u001b[0m\u001b[1;33m:\u001b[0m\u001b[1;33m\u001b[0m\u001b[1;33m\u001b[0m\u001b[0m\n\u001b[1;32m---> 16\u001b[1;33m             \u001b[1;32mraise\u001b[0m \u001b[0mException\u001b[0m\u001b[1;33m(\u001b[0m\u001b[0mself\u001b[0m\u001b[1;33m.\u001b[0m\u001b[0ma\u001b[0m\u001b[1;33m,\u001b[0m \u001b[1;34m\"Not a dictionary\"\u001b[0m\u001b[1;33m)\u001b[0m\u001b[1;33m\u001b[0m\u001b[1;33m\u001b[0m\u001b[0m\n\u001b[0m\u001b[0;32m     17\u001b[0m         \u001b[1;32mreturn\u001b[0m \u001b[1;36m1\u001b[0m\u001b[1;33m\u001b[0m\u001b[1;33m\u001b[0m\u001b[0m\n\u001b[0;32m     18\u001b[0m     \u001b[1;32mdef\u001b[0m \u001b[0muserinput\u001b[0m\u001b[1;33m(\u001b[0m\u001b[0mself\u001b[0m\u001b[1;33m)\u001b[0m\u001b[1;33m:\u001b[0m\u001b[1;33m\u001b[0m\u001b[1;33m\u001b[0m\u001b[0m\n",
      "\u001b[1;31mException\u001b[0m: ([3, 4, 5, 6, 7], 'Not a dictionary')"
     ]
    }
   ],
   "source": [
    "d = dict_parsing([3,4,5,6,7])\n",
    "d.notdict()"
   ]
  },
  {
   "cell_type": "code",
   "execution_count": 27,
   "id": "750c94f9",
   "metadata": {},
   "outputs": [
    {
     "name": "stdout",
     "output_type": "stream",
     "text": [
      "{\"k1\":\"Chgsadfgg\"}\n",
      "{'k1': 'Chgsadfgg'} <class 'dict'>\n",
      "['k1']\n",
      "['Chgsadfgg']\n"
     ]
    }
   ],
   "source": [
    "d.userinput()"
   ]
  },
  {
   "cell_type": "code",
   "execution_count": 33,
   "id": "a0459e93",
   "metadata": {},
   "outputs": [],
   "source": [
    "class Dict_class:\n",
    "    def __init__(self,d):\n",
    "        if type(d) !=dict:\n",
    "            raise Exception(\"Not a dict\")\n",
    "        self.d = d\n",
    "        \n",
    "    def keys(self):\n",
    "        for i in selfd.keys():\n",
    "            print(i)\n",
    "    \n",
    "    def values(self):\n",
    "        for i in self.d.values():\n",
    "            print(i)\n",
    "            \n",
    "    def parse(self, key):\n",
    "        print(self.d[key])\n",
    "    \n",
    "    def insert(self, **kwargs):\n",
    "        for k,v in kwargs.items():\n",
    "            self.d[k] = v\n",
    "            print(\"Value inserted\")"
   ]
  },
  {
   "cell_type": "code",
   "execution_count": 34,
   "id": "9b3f599c",
   "metadata": {},
   "outputs": [
    {
     "data": {
      "text/plain": [
       "<_io.TextIOWrapper name='mydict.py' mode='w' encoding='cp1252'>"
      ]
     },
     "execution_count": 34,
     "metadata": {},
     "output_type": "execute_result"
    }
   ],
   "source": [
    " open(\"mydict.py\", \"w\")"
   ]
  },
  {
   "cell_type": "code",
   "execution_count": 35,
   "id": "059a7a9d",
   "metadata": {},
   "outputs": [
    {
     "name": "stdout",
     "output_type": "stream",
     "text": [
      " Volume in drive C is Windows\n",
      " Volume Serial Number is CC09-EFB7\n",
      "\n",
      " Directory of C:\\Users\\chand\n",
      "\n",
      "01-02-2022  12:49    <DIR>          .\n",
      "01-02-2022  12:49    <DIR>          ..\n",
      "04-12-2021  10:26    <DIR>          .conda\n",
      "04-12-2021  10:25                25 .condarc\n",
      "04-12-2021  10:25    <DIR>          .continuum\n",
      "26-01-2022  19:07    <DIR>          .ipynb_checkpoints\n",
      "14-10-2021  10:56    <DIR>          .ipython\n",
      "09-01-2022  12:46    <DIR>          .jupyter\n",
      "14-10-2021  10:57    <DIR>          .matplotlib\n",
      "22-01-2022  11:07    <DIR>          __pycache__\n",
      "15-03-2021  18:37    <DIR>          3D Objects\n",
      "31-10-2021  16:57    <DIR>          anaconda3\n",
      "15-03-2021  18:37    <DIR>          Contacts\n",
      "10-01-2022  18:16            25,824 Control Flow Statements - If, elif, for.ipynb\n",
      "11-01-2022  21:38         1,344,850 Control flow statements - While loop, for else.ipynb\n",
      "21-01-2022  20:20    <DIR>          Desktop\n",
      "27-12-2021  20:27    <DIR>          Documents\n",
      "22-01-2022  11:28    <DIR>          Downloads\n",
      "15-03-2021  18:37    <DIR>          Favorites\n",
      "17-01-2022  15:56             4,144 google.txt\n",
      "15-03-2021  18:37    <DIR>          Links\n",
      "15-03-2021  18:37    <DIR>          Music\n",
      "22-01-2022  11:07               229 my_module.py\n",
      "01-02-2022  12:49                 0 mydict.py\n",
      "01-02-2022  11:15    <DIR>          OneDrive\n",
      "26-11-2021  11:56    <DIR>          Pictures\n",
      "22-01-2022  11:33    <DIR>          PycharmProjects\n",
      "16-01-2022  12:20            45,376 python - exception handling.ipynb\n",
      "18-01-2022  20:56            14,385 Python - Exercise.ipynb\n",
      "17-01-2022  16:09           258,089 python - function- part3(generator) and file operation.ipynb\n",
      "13-01-2022  16:56            21,974 python - function.ipynb\n",
      "14-01-2022  20:29            48,445 python - functions -part2.ipynb\n",
      "12-01-2022  17:48            17,621 Python - Iterator, Generator.ipynb\n",
      "16-01-2022  13:15            34,375 Python - Logging.ipynb\n",
      "22-01-2022  11:09            13,524 Python - Modules.ipynb\n",
      "01-02-2022  12:42            20,586 Python - OOPS concepts.ipynb\n",
      "05-01-2022  15:26            50,943 python - Strings and lists.ipynb\n",
      "08-01-2022  13:17            48,786 Python - Tuples, Sets, dictionary.ipynb\n",
      "15-03-2021  18:37    <DIR>          Saved Games\n",
      "26-10-2021  11:52    <DIR>          seaborn-data\n",
      "15-03-2021  18:38    <DIR>          Searches\n",
      "16-01-2022  12:45               634 test.log\n",
      "15-01-2022  16:34                 0 test.txt\n",
      "22-01-2022  10:48               256 test1.py\n",
      "16-01-2022  10:55                22 test1.txt\n",
      "16-01-2022  12:45                 0 test2.log\n",
      "22-01-2022  10:45                 0 test2.py\n",
      "15-01-2022  16:45                49 test2.txt\n",
      "16-01-2022  11:06                 0 test43.txt\n",
      "14-01-2022  19:56    <DIR>          Tracing\n",
      "28-01-2022  20:29           109,133 Untitled.ipynb\n",
      "25-10-2021  09:39    <DIR>          Videos\n",
      "              26 File(s)      2,059,270 bytes\n",
      "              26 Dir(s)  464,467,931,136 bytes free\n"
     ]
    }
   ],
   "source": [
    "ls"
   ]
  },
  {
   "cell_type": "code",
   "execution_count": null,
   "id": "3e36bdae",
   "metadata": {},
   "outputs": [],
   "source": []
  }
 ],
 "metadata": {
  "kernelspec": {
   "display_name": "Python 3",
   "language": "python",
   "name": "python3"
  },
  "language_info": {
   "codemirror_mode": {
    "name": "ipython",
    "version": 3
   },
   "file_extension": ".py",
   "mimetype": "text/x-python",
   "name": "python",
   "nbconvert_exporter": "python",
   "pygments_lexer": "ipython3",
   "version": "3.8.8"
  }
 },
 "nbformat": 4,
 "nbformat_minor": 5
}
